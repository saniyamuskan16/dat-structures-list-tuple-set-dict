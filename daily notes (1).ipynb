{
 "cells": [
  {
   "cell_type": "markdown",
   "id": "9d681fd2-c543-4da2-a92d-9a75f74d7f6d",
   "metadata": {
    "jp-MarkdownHeadingCollapsed": true
   },
   "source": [
    "# 6th nov type casting"
   ]
  },
  {
   "cell_type": "markdown",
   "id": "6b305e1b-8fab-466d-91ee-e5e656e0faff",
   "metadata": {},
   "source": [
    "# other data type to int"
   ]
  },
  {
   "cell_type": "code",
   "execution_count": 1,
   "id": "1f3d1be2-8a07-484b-8907-1aec2b9f4ec0",
   "metadata": {},
   "outputs": [
    {
     "data": {
      "text/plain": [
       "3"
      ]
     },
     "execution_count": 1,
     "metadata": {},
     "output_type": "execute_result"
    }
   ],
   "source": [
    "int(3.2)"
   ]
  },
  {
   "cell_type": "code",
   "execution_count": 2,
   "id": "00259c72-22a5-4d00-8a26-a10c2891d6c7",
   "metadata": {},
   "outputs": [
    {
     "data": {
      "text/plain": [
       "1"
      ]
     },
     "execution_count": 2,
     "metadata": {},
     "output_type": "execute_result"
    }
   ],
   "source": [
    "int(True)"
   ]
  },
  {
   "cell_type": "code",
   "execution_count": 3,
   "id": "e6bbe3b6-bbaf-4abe-9ddc-22c198b853de",
   "metadata": {},
   "outputs": [
    {
     "data": {
      "text/plain": [
       "0"
      ]
     },
     "execution_count": 3,
     "metadata": {},
     "output_type": "execute_result"
    }
   ],
   "source": [
    "int(False)"
   ]
  },
  {
   "cell_type": "code",
   "execution_count": 4,
   "id": "741f689e-e443-4dbc-b481-bbe298da5584",
   "metadata": {},
   "outputs": [
    {
     "data": {
      "text/plain": [
       "10"
      ]
     },
     "execution_count": 4,
     "metadata": {},
     "output_type": "execute_result"
    }
   ],
   "source": [
    "int(10)"
   ]
  },
  {
   "cell_type": "code",
   "execution_count": 5,
   "id": "729b0063-9ed5-4d97-a643-9b018be71680",
   "metadata": {},
   "outputs": [
    {
     "ename": "ValueError",
     "evalue": "invalid literal for int() with base 10: 'ten'",
     "output_type": "error",
     "traceback": [
      "\u001b[1;31m---------------------------------------------------------------------------\u001b[0m",
      "\u001b[1;31mValueError\u001b[0m                                Traceback (most recent call last)",
      "Cell \u001b[1;32mIn[5], line 1\u001b[0m\n\u001b[1;32m----> 1\u001b[0m \u001b[38;5;28mint\u001b[39m(\u001b[38;5;124m'\u001b[39m\u001b[38;5;124mten\u001b[39m\u001b[38;5;124m'\u001b[39m)\n",
      "\u001b[1;31mValueError\u001b[0m: invalid literal for int() with base 10: 'ten'"
     ]
    }
   ],
   "source": [
    "int('ten')"
   ]
  },
  {
   "cell_type": "code",
   "execution_count": 6,
   "id": "fa80ded6-a143-4db1-859f-69f342b69879",
   "metadata": {},
   "outputs": [
    {
     "ename": "TypeError",
     "evalue": "int() argument must be a string, a bytes-like object or a real number, not 'complex'",
     "output_type": "error",
     "traceback": [
      "\u001b[1;31m---------------------------------------------------------------------------\u001b[0m",
      "\u001b[1;31mTypeError\u001b[0m                                 Traceback (most recent call last)",
      "Cell \u001b[1;32mIn[6], line 1\u001b[0m\n\u001b[1;32m----> 1\u001b[0m \u001b[38;5;28mint\u001b[39m(\u001b[38;5;241m1\u001b[39m\u001b[38;5;241m+\u001b[39m\u001b[38;5;241m2\u001b[39mj)\n",
      "\u001b[1;31mTypeError\u001b[0m: int() argument must be a string, a bytes-like object or a real number, not 'complex'"
     ]
    }
   ],
   "source": [
    "int(1+2j)"
   ]
  },
  {
   "cell_type": "markdown",
   "id": "966e93d7-cd22-4de6-abb2-6c8118a3097a",
   "metadata": {},
   "source": [
    "# type casting other data type to float"
   ]
  },
  {
   "cell_type": "code",
   "execution_count": 8,
   "id": "5f3ba4c4-addd-49f3-b67a-d1c2555afdd0",
   "metadata": {},
   "outputs": [
    {
     "data": {
      "text/plain": [
       "34.0"
      ]
     },
     "execution_count": 8,
     "metadata": {},
     "output_type": "execute_result"
    }
   ],
   "source": [
    "float(34)"
   ]
  },
  {
   "cell_type": "code",
   "execution_count": 9,
   "id": "3087d82a-b86c-4ea9-987f-aa50744b0dff",
   "metadata": {},
   "outputs": [
    {
     "data": {
      "text/plain": [
       "1.0"
      ]
     },
     "execution_count": 9,
     "metadata": {},
     "output_type": "execute_result"
    }
   ],
   "source": [
    "float(True)"
   ]
  },
  {
   "cell_type": "code",
   "execution_count": 10,
   "id": "1a473d6f-0782-4dfc-9c76-b7beeecacea5",
   "metadata": {},
   "outputs": [
    {
     "data": {
      "text/plain": [
       "0.0"
      ]
     },
     "execution_count": 10,
     "metadata": {},
     "output_type": "execute_result"
    }
   ],
   "source": [
    "float(False)"
   ]
  },
  {
   "cell_type": "code",
   "execution_count": 11,
   "id": "fe57e1d4-bca2-478b-8a23-5371bc59b6f9",
   "metadata": {},
   "outputs": [
    {
     "data": {
      "text/plain": [
       "10.0"
      ]
     },
     "execution_count": 11,
     "metadata": {},
     "output_type": "execute_result"
    }
   ],
   "source": [
    "float('10')"
   ]
  },
  {
   "cell_type": "markdown",
   "id": "edb901f9-0eaa-4a8b-911a-6cba14e31edc",
   "metadata": {},
   "source": [
    "# other data type to bool"
   ]
  },
  {
   "cell_type": "code",
   "execution_count": 14,
   "id": "7beab3da-26d8-48b0-8383-961eacc140b8",
   "metadata": {},
   "outputs": [
    {
     "data": {
      "text/plain": [
       "True"
      ]
     },
     "execution_count": 14,
     "metadata": {},
     "output_type": "execute_result"
    }
   ],
   "source": [
    "bool(56)"
   ]
  },
  {
   "cell_type": "code",
   "execution_count": 15,
   "id": "e268835d-ab7c-4c16-9689-41e963e83dec",
   "metadata": {},
   "outputs": [
    {
     "data": {
      "text/plain": [
       "True"
      ]
     },
     "execution_count": 15,
     "metadata": {},
     "output_type": "execute_result"
    }
   ],
   "source": [
    "bool(5.6)"
   ]
  },
  {
   "cell_type": "code",
   "execution_count": 16,
   "id": "1e111373-ce4b-492b-a08b-55c90395a853",
   "metadata": {},
   "outputs": [
    {
     "data": {
      "text/plain": [
       "True"
      ]
     },
     "execution_count": 16,
     "metadata": {},
     "output_type": "execute_result"
    }
   ],
   "source": [
    "bool('nit')"
   ]
  },
  {
   "cell_type": "code",
   "execution_count": 17,
   "id": "18bb1a41-5ff6-4868-a2fb-38e18a0a6e4c",
   "metadata": {},
   "outputs": [
    {
     "data": {
      "text/plain": [
       "False"
      ]
     },
     "execution_count": 17,
     "metadata": {},
     "output_type": "execute_result"
    }
   ],
   "source": [
    "bool( )"
   ]
  },
  {
   "cell_type": "code",
   "execution_count": 18,
   "id": "2c0622e2-3125-4dea-b99f-2594551c0c29",
   "metadata": {},
   "outputs": [
    {
     "data": {
      "text/plain": [
       "True"
      ]
     },
     "execution_count": 18,
     "metadata": {},
     "output_type": "execute_result"
    }
   ],
   "source": [
    "bool(1+2j)"
   ]
  },
  {
   "cell_type": "code",
   "execution_count": 19,
   "id": "7d588208-c248-4998-8f65-9bf9f3bf5a27",
   "metadata": {},
   "outputs": [
    {
     "data": {
      "text/plain": [
       "False"
      ]
     },
     "execution_count": 19,
     "metadata": {},
     "output_type": "execute_result"
    }
   ],
   "source": [
    "bool(0)"
   ]
  },
  {
   "cell_type": "markdown",
   "id": "9272ccfe-1798-4baf-82f6-cb7f794e2a40",
   "metadata": {},
   "source": [
    "# other data type to string"
   ]
  },
  {
   "cell_type": "code",
   "execution_count": 20,
   "id": "b8332d38-562f-42b0-b271-644d4d64ba8e",
   "metadata": {},
   "outputs": [
    {
     "data": {
      "text/plain": [
       "'10'"
      ]
     },
     "execution_count": 20,
     "metadata": {},
     "output_type": "execute_result"
    }
   ],
   "source": [
    "str(10)"
   ]
  },
  {
   "cell_type": "code",
   "execution_count": 21,
   "id": "a40e5c42-c540-4315-b39a-5323513a16c9",
   "metadata": {},
   "outputs": [
    {
     "data": {
      "text/plain": [
       "'10.1'"
      ]
     },
     "execution_count": 21,
     "metadata": {},
     "output_type": "execute_result"
    }
   ],
   "source": [
    "str(10.10)"
   ]
  },
  {
   "cell_type": "code",
   "execution_count": 22,
   "id": "8c5ce824-ee06-4bb2-ab7d-76b94e407897",
   "metadata": {},
   "outputs": [
    {
     "data": {
      "text/plain": [
       "'True'"
      ]
     },
     "execution_count": 22,
     "metadata": {},
     "output_type": "execute_result"
    }
   ],
   "source": [
    "str(True)"
   ]
  },
  {
   "cell_type": "code",
   "execution_count": 23,
   "id": "ae493433-4a12-4eef-89eb-6097a0c5763e",
   "metadata": {},
   "outputs": [
    {
     "data": {
      "text/plain": [
       "1"
      ]
     },
     "execution_count": 23,
     "metadata": {},
     "output_type": "execute_result"
    }
   ],
   "source": [
    "int(True)"
   ]
  },
  {
   "cell_type": "code",
   "execution_count": 24,
   "id": "9877395a-02c7-4629-8202-16caa0c2efa7",
   "metadata": {},
   "outputs": [
    {
     "data": {
      "text/plain": [
       "'False'"
      ]
     },
     "execution_count": 24,
     "metadata": {},
     "output_type": "execute_result"
    }
   ],
   "source": [
    "str(False)"
   ]
  },
  {
   "cell_type": "code",
   "execution_count": 25,
   "id": "7f2e5abc-fd93-451c-8525-6b5faafa9bdc",
   "metadata": {},
   "outputs": [
    {
     "data": {
      "text/plain": [
       "0"
      ]
     },
     "execution_count": 25,
     "metadata": {},
     "output_type": "execute_result"
    }
   ],
   "source": [
    "int(False)"
   ]
  },
  {
   "cell_type": "code",
   "execution_count": 26,
   "id": "943d409c-c19c-43f5-aa26-7bfbe1b332d6",
   "metadata": {},
   "outputs": [
    {
     "data": {
      "text/plain": [
       "'(1+2j)'"
      ]
     },
     "execution_count": 26,
     "metadata": {},
     "output_type": "execute_result"
    }
   ],
   "source": [
    "str(1+2j)"
   ]
  },
  {
   "cell_type": "markdown",
   "id": "6a18ee28-b55f-45e0-98ca-7e1cea0d6bf9",
   "metadata": {},
   "source": [
    "# other data type to complex"
   ]
  },
  {
   "cell_type": "code",
   "execution_count": 28,
   "id": "317daa48-e115-40a0-a9bb-52623e35ffcd",
   "metadata": {},
   "outputs": [
    {
     "data": {
      "text/plain": [
       "(10+0j)"
      ]
     },
     "execution_count": 28,
     "metadata": {},
     "output_type": "execute_result"
    }
   ],
   "source": [
    "complex(10)"
   ]
  },
  {
   "cell_type": "code",
   "execution_count": 29,
   "id": "c372193d-e13b-4a3f-9efd-1c8cf7809f4e",
   "metadata": {},
   "outputs": [
    {
     "data": {
      "text/plain": [
       "(10+20j)"
      ]
     },
     "execution_count": 29,
     "metadata": {},
     "output_type": "execute_result"
    }
   ],
   "source": [
    "complex(10,20)"
   ]
  },
  {
   "cell_type": "code",
   "execution_count": 30,
   "id": "76129fcc-fafa-4cbe-9ab5-b808026fcfe8",
   "metadata": {},
   "outputs": [
    {
     "ename": "TypeError",
     "evalue": "complex() takes at most 2 arguments (3 given)",
     "output_type": "error",
     "traceback": [
      "\u001b[1;31m---------------------------------------------------------------------------\u001b[0m",
      "\u001b[1;31mTypeError\u001b[0m                                 Traceback (most recent call last)",
      "Cell \u001b[1;32mIn[30], line 1\u001b[0m\n\u001b[1;32m----> 1\u001b[0m \u001b[38;5;28mcomplex\u001b[39m(\u001b[38;5;241m10\u001b[39m,\u001b[38;5;241m20\u001b[39m,\u001b[38;5;241m30\u001b[39m)\n",
      "\u001b[1;31mTypeError\u001b[0m: complex() takes at most 2 arguments (3 given)"
     ]
    }
   ],
   "source": [
    "complex(10,20,30) #error bcoz complex has 2 prts argumnts 1.real 2. imagnary"
   ]
  },
  {
   "cell_type": "code",
   "execution_count": 31,
   "id": "363ef25d-5b0c-47af-b519-c18bd209afad",
   "metadata": {},
   "outputs": [
    {
     "data": {
      "text/plain": [
       "(1.2+3.3j)"
      ]
     },
     "execution_count": 31,
     "metadata": {},
     "output_type": "execute_result"
    }
   ],
   "source": [
    "complex(1.2,3.3)"
   ]
  },
  {
   "cell_type": "code",
   "execution_count": 32,
   "id": "a56acc7e-1079-4504-a590-8bdcbee602b2",
   "metadata": {},
   "outputs": [
    {
     "data": {
      "text/plain": [
       "(2+5.6j)"
      ]
     },
     "execution_count": 32,
     "metadata": {},
     "output_type": "execute_result"
    }
   ],
   "source": [
    "complex(2, 5.6)"
   ]
  },
  {
   "cell_type": "code",
   "execution_count": 33,
   "id": "c41aa8c3-0761-46ef-9470-618ae3b0a129",
   "metadata": {},
   "outputs": [
    {
     "data": {
      "text/plain": [
       "(1+0j)"
      ]
     },
     "execution_count": 33,
     "metadata": {},
     "output_type": "execute_result"
    }
   ],
   "source": [
    "complex(True,False)"
   ]
  },
  {
   "cell_type": "code",
   "execution_count": 34,
   "id": "77579c97-68db-4a31-952a-7b3ae645db73",
   "metadata": {},
   "outputs": [
    {
     "data": {
      "text/plain": [
       "0j"
      ]
     },
     "execution_count": 34,
     "metadata": {},
     "output_type": "execute_result"
    }
   ],
   "source": [
    "complex(False,False)"
   ]
  },
  {
   "cell_type": "code",
   "execution_count": 35,
   "id": "63743b78-fd61-4b27-a543-cf354f6db67a",
   "metadata": {},
   "outputs": [
    {
     "ename": "ValueError",
     "evalue": "complex() arg is a malformed string",
     "output_type": "error",
     "traceback": [
      "\u001b[1;31m---------------------------------------------------------------------------\u001b[0m",
      "\u001b[1;31mValueError\u001b[0m                                Traceback (most recent call last)",
      "Cell \u001b[1;32mIn[35], line 1\u001b[0m\n\u001b[1;32m----> 1\u001b[0m \u001b[38;5;28mcomplex\u001b[39m(\u001b[38;5;124m'\u001b[39m\u001b[38;5;124mnit\u001b[39m\u001b[38;5;124m'\u001b[39m)\n",
      "\u001b[1;31mValueError\u001b[0m: complex() arg is a malformed string"
     ]
    }
   ],
   "source": [
    "complex('nit')"
   ]
  },
  {
   "cell_type": "markdown",
   "id": "bfeffd06-1e1c-41c8-a53a-141444f31fae",
   "metadata": {},
   "source": [
    "# python operators"
   ]
  },
  {
   "cell_type": "markdown",
   "id": "3c8e8389-bb19-410a-b8d6-8c8bb88ef542",
   "metadata": {},
   "source": [
    "# arithematic operator"
   ]
  },
  {
   "cell_type": "code",
   "execution_count": 7,
   "id": "292cfe71-f17a-46a9-b2d0-87d969126af6",
   "metadata": {},
   "outputs": [
    {
     "data": {
      "text/plain": [
       "10"
      ]
     },
     "execution_count": 7,
     "metadata": {},
     "output_type": "execute_result"
    }
   ],
   "source": [
    "x1 , y1 =10,5 # arithematic op..\n",
    "x1"
   ]
  },
  {
   "cell_type": "code",
   "execution_count": 8,
   "id": "8772aa65-e488-4d64-91af-314c64565af3",
   "metadata": {},
   "outputs": [
    {
     "data": {
      "text/plain": [
       "15"
      ]
     },
     "execution_count": 8,
     "metadata": {},
     "output_type": "execute_result"
    }
   ],
   "source": [
    "x1+y1"
   ]
  },
  {
   "cell_type": "code",
   "execution_count": 9,
   "id": "d34ec9ef-5f37-457d-9bdd-41036010d062",
   "metadata": {},
   "outputs": [
    {
     "data": {
      "text/plain": [
       "5"
      ]
     },
     "execution_count": 9,
     "metadata": {},
     "output_type": "execute_result"
    }
   ],
   "source": [
    "x1-y1"
   ]
  },
  {
   "cell_type": "code",
   "execution_count": 10,
   "id": "3c2d5349-19d3-45ed-b451-d01fdc5228d1",
   "metadata": {},
   "outputs": [
    {
     "data": {
      "text/plain": [
       "2.0"
      ]
     },
     "execution_count": 10,
     "metadata": {},
     "output_type": "execute_result"
    }
   ],
   "source": [
    "x1/y1"
   ]
  },
  {
   "cell_type": "code",
   "execution_count": 11,
   "id": "e1800e09-5fe0-4c94-bcb0-ab7313328d7f",
   "metadata": {},
   "outputs": [
    {
     "data": {
      "text/plain": [
       "2"
      ]
     },
     "execution_count": 11,
     "metadata": {},
     "output_type": "execute_result"
    }
   ],
   "source": [
    "x1//y1"
   ]
  },
  {
   "cell_type": "code",
   "execution_count": 12,
   "id": "c8a2b8b3-43e0-4bc9-b988-dc03d408d7ac",
   "metadata": {},
   "outputs": [
    {
     "data": {
      "text/plain": [
       "0"
      ]
     },
     "execution_count": 12,
     "metadata": {},
     "output_type": "execute_result"
    }
   ],
   "source": [
    "x1%y1"
   ]
  },
  {
   "cell_type": "code",
   "execution_count": 19,
   "id": "58a4ceb7-8c3c-48df-9f3d-b9466e73d0e4",
   "metadata": {
    "scrolled": true
   },
   "outputs": [
    {
     "data": {
      "text/plain": [
       "100000"
      ]
     },
     "execution_count": 19,
     "metadata": {},
     "output_type": "execute_result"
    }
   ],
   "source": [
    "x1 ** y1"
   ]
  },
  {
   "cell_type": "code",
   "execution_count": 14,
   "id": "59582fd0-8428-4a21-91d3-be334d097d29",
   "metadata": {},
   "outputs": [
    {
     "data": {
      "text/plain": [
       "9"
      ]
     },
     "execution_count": 14,
     "metadata": {},
     "output_type": "execute_result"
    }
   ],
   "source": [
    "x2=3\n",
    "y2=2\n",
    "x2 ** y2"
   ]
  },
  {
   "cell_type": "markdown",
   "id": "cd151742-4b9c-4e44-bea6-e3646bf1fe35",
   "metadata": {},
   "source": [
    "# assignment operator"
   ]
  },
  {
   "cell_type": "code",
   "execution_count": 20,
   "id": "0e0c0a51-586b-451c-8590-92add255e440",
   "metadata": {},
   "outputs": [
    {
     "data": {
      "text/plain": [
       "4"
      ]
     },
     "execution_count": 20,
     "metadata": {},
     "output_type": "execute_result"
    }
   ],
   "source": [
    "x=2\n",
    "x=x+2\n",
    "x"
   ]
  },
  {
   "cell_type": "code",
   "execution_count": 21,
   "id": "7bf94d34-c7f0-4ccd-b8dc-1749fd095c6b",
   "metadata": {},
   "outputs": [
    {
     "data": {
      "text/plain": [
       "6"
      ]
     },
     "execution_count": 21,
     "metadata": {},
     "output_type": "execute_result"
    }
   ],
   "source": [
    "x+=2\n",
    "x"
   ]
  },
  {
   "cell_type": "code",
   "execution_count": 22,
   "id": "cfff80af-499b-455c-85d9-948cde9bb35f",
   "metadata": {},
   "outputs": [
    {
     "data": {
      "text/plain": [
       "8"
      ]
     },
     "execution_count": 22,
     "metadata": {},
     "output_type": "execute_result"
    }
   ],
   "source": [
    "x+=2\n",
    "x"
   ]
  },
  {
   "cell_type": "code",
   "execution_count": 23,
   "id": "9698b3b8-528a-43e1-a2c5-df3072a6f029",
   "metadata": {},
   "outputs": [
    {
     "data": {
      "text/plain": [
       "16"
      ]
     },
     "execution_count": 23,
     "metadata": {},
     "output_type": "execute_result"
    }
   ],
   "source": [
    "x*=2\n",
    "x"
   ]
  },
  {
   "cell_type": "code",
   "execution_count": 24,
   "id": "c79b9564-99e2-40cf-8b3e-32b877ba62ac",
   "metadata": {},
   "outputs": [
    {
     "data": {
      "text/plain": [
       "14"
      ]
     },
     "execution_count": 24,
     "metadata": {},
     "output_type": "execute_result"
    }
   ],
   "source": [
    "x-=2\n",
    "x"
   ]
  },
  {
   "cell_type": "code",
   "execution_count": 31,
   "id": "c2d1cb43-8baa-4c77-80d2-b63038ba6834",
   "metadata": {},
   "outputs": [
    {
     "data": {
      "text/plain": [
       "0.109375"
      ]
     },
     "execution_count": 31,
     "metadata": {},
     "output_type": "execute_result"
    }
   ],
   "source": [
    "x/=2\n",
    "x"
   ]
  },
  {
   "cell_type": "code",
   "execution_count": 32,
   "id": "0cc3b03f-ae10-4993-85ad-92f7c84aca86",
   "metadata": {},
   "outputs": [
    {
     "data": {
      "text/plain": [
       "5"
      ]
     },
     "execution_count": 32,
     "metadata": {},
     "output_type": "execute_result"
    }
   ],
   "source": [
    "a,b = 5,6\n",
    "a"
   ]
  },
  {
   "cell_type": "code",
   "execution_count": 33,
   "id": "cc0a2a89-52d5-480a-a32d-64340707122d",
   "metadata": {},
   "outputs": [
    {
     "data": {
      "text/plain": [
       "6"
      ]
     },
     "execution_count": 33,
     "metadata": {},
     "output_type": "execute_result"
    }
   ],
   "source": [
    "b"
   ]
  },
  {
   "cell_type": "markdown",
   "id": "6e0a101e-4032-44d2-91c2-805e1a29b899",
   "metadata": {},
   "source": [
    "# Relational operator"
   ]
  },
  {
   "cell_type": "code",
   "execution_count": null,
   "id": "71bf9876-f9f6-44d9-9be3-45b4bc88a6a5",
   "metadata": {},
   "outputs": [],
   "source": [
    "a=5\n",
    "b=6"
   ]
  },
  {
   "cell_type": "code",
   "execution_count": 34,
   "id": "6406f769-a1cf-407a-85bb-e5d6f421527f",
   "metadata": {},
   "outputs": [
    {
     "data": {
      "text/plain": [
       "True"
      ]
     },
     "execution_count": 34,
     "metadata": {},
     "output_type": "execute_result"
    }
   ],
   "source": [
    "a<b"
   ]
  },
  {
   "cell_type": "code",
   "execution_count": 35,
   "id": "90c525da-7849-499e-b94f-0f3f4344e972",
   "metadata": {},
   "outputs": [
    {
     "data": {
      "text/plain": [
       "False"
      ]
     },
     "execution_count": 35,
     "metadata": {},
     "output_type": "execute_result"
    }
   ],
   "source": [
    "a>b"
   ]
  },
  {
   "cell_type": "code",
   "execution_count": 36,
   "id": "72546dd8-fa24-43b6-832b-0a71a54bb1bc",
   "metadata": {},
   "outputs": [
    {
     "data": {
      "text/plain": [
       "False"
      ]
     },
     "execution_count": 36,
     "metadata": {},
     "output_type": "execute_result"
    }
   ],
   "source": [
    "a==b"
   ]
  },
  {
   "cell_type": "code",
   "execution_count": 37,
   "id": "d354e4dc-0b3d-4f0c-beab-9b101de6377d",
   "metadata": {},
   "outputs": [
    {
     "data": {
      "text/plain": [
       "True"
      ]
     },
     "execution_count": 37,
     "metadata": {},
     "output_type": "execute_result"
    }
   ],
   "source": [
    "a !=b"
   ]
  },
  {
   "cell_type": "code",
   "execution_count": 38,
   "id": "c25874bc-de8c-4aa1-9c52-992aec6017d7",
   "metadata": {},
   "outputs": [],
   "source": [
    "b = 5"
   ]
  },
  {
   "cell_type": "code",
   "execution_count": 39,
   "id": "4bdb1e80-eddf-494c-945f-a74211091bff",
   "metadata": {},
   "outputs": [
    {
     "data": {
      "text/plain": [
       "True"
      ]
     },
     "execution_count": 39,
     "metadata": {},
     "output_type": "execute_result"
    }
   ],
   "source": [
    "a == b"
   ]
  },
  {
   "cell_type": "code",
   "execution_count": 40,
   "id": "95069789-b6dd-4654-9137-d459e187c431",
   "metadata": {},
   "outputs": [
    {
     "data": {
      "text/plain": [
       "True"
      ]
     },
     "execution_count": 40,
     "metadata": {},
     "output_type": "execute_result"
    }
   ],
   "source": [
    "a<=b"
   ]
  },
  {
   "cell_type": "code",
   "execution_count": 42,
   "id": "73531c07-8978-4c9e-a15c-b0cc7d9ffb97",
   "metadata": {},
   "outputs": [
    {
     "data": {
      "text/plain": [
       "False"
      ]
     },
     "execution_count": 42,
     "metadata": {},
     "output_type": "execute_result"
    }
   ],
   "source": [
    "a>+b"
   ]
  },
  {
   "cell_type": "code",
   "execution_count": 46,
   "id": "b4cabdd4-5b46-4ff5-bb52-fb36434dfeb8",
   "metadata": {},
   "outputs": [
    {
     "data": {
      "text/plain": [
       "True"
      ]
     },
     "execution_count": 46,
     "metadata": {},
     "output_type": "execute_result"
    }
   ],
   "source": [
    "a<b"
   ]
  },
  {
   "cell_type": "code",
   "execution_count": 47,
   "id": "90fcc927-5121-433d-a8f0-95371de2e4c7",
   "metadata": {},
   "outputs": [
    {
     "data": {
      "text/plain": [
       "False"
      ]
     },
     "execution_count": 47,
     "metadata": {},
     "output_type": "execute_result"
    }
   ],
   "source": [
    "a>b"
   ]
  },
  {
   "cell_type": "code",
   "execution_count": 48,
   "id": "98a0c4a6-d02a-4826-81e7-6c734916d909",
   "metadata": {},
   "outputs": [
    {
     "data": {
      "text/plain": [
       "True"
      ]
     },
     "execution_count": 48,
     "metadata": {},
     "output_type": "execute_result"
    }
   ],
   "source": [
    "a!=b"
   ]
  },
  {
   "cell_type": "markdown",
   "id": "62c8c546-833a-489a-acb6-b17e60ba00b0",
   "metadata": {},
   "source": [
    "# logical operator"
   ]
  },
  {
   "cell_type": "code",
   "execution_count": 54,
   "id": "691940af-fd2d-444a-9fe6-7a280a9b2bba",
   "metadata": {},
   "outputs": [
    {
     "data": {
      "text/plain": [
       "True"
      ]
     },
     "execution_count": 54,
     "metadata": {},
     "output_type": "execute_result"
    }
   ],
   "source": [
    "a=5\n",
    "b=4\n",
    "a<8 and b<5"
   ]
  },
  {
   "cell_type": "code",
   "execution_count": 58,
   "id": "2edb81a0-6069-4dc6-af85-218356c257b4",
   "metadata": {},
   "outputs": [
    {
     "data": {
      "text/plain": [
       "False"
      ]
     },
     "execution_count": 58,
     "metadata": {},
     "output_type": "execute_result"
    }
   ],
   "source": [
    "a<8 and b<2"
   ]
  },
  {
   "cell_type": "code",
   "execution_count": 56,
   "id": "e25a55c4-c037-4ab7-81b4-69893488916f",
   "metadata": {},
   "outputs": [
    {
     "data": {
      "text/plain": [
       "False"
      ]
     },
     "execution_count": 56,
     "metadata": {},
     "output_type": "execute_result"
    }
   ],
   "source": [
    "a>8 and b<2"
   ]
  },
  {
   "cell_type": "code",
   "execution_count": 57,
   "id": "4434712f-b4f5-4a27-a8c7-a1f6acd4a712",
   "metadata": {},
   "outputs": [
    {
     "data": {
      "text/plain": [
       "False"
      ]
     },
     "execution_count": 57,
     "metadata": {},
     "output_type": "execute_result"
    }
   ],
   "source": [
    "a>8 or b<2"
   ]
  },
  {
   "cell_type": "code",
   "execution_count": 59,
   "id": "fa38a24b-a5d9-46b8-9cd2-43e313244fb6",
   "metadata": {},
   "outputs": [
    {
     "data": {
      "text/plain": [
       "False"
      ]
     },
     "execution_count": 59,
     "metadata": {},
     "output_type": "execute_result"
    }
   ],
   "source": [
    "x=False\n",
    "x"
   ]
  },
  {
   "cell_type": "code",
   "execution_count": 60,
   "id": "c4dc3633-19e7-4985-8b52-14b50599b493",
   "metadata": {},
   "outputs": [
    {
     "data": {
      "text/plain": [
       "True"
      ]
     },
     "execution_count": 60,
     "metadata": {},
     "output_type": "execute_result"
    }
   ],
   "source": [
    "not x"
   ]
  },
  {
   "cell_type": "code",
   "execution_count": 63,
   "id": "132f7277-7da8-417f-a776-b10644aed56c",
   "metadata": {},
   "outputs": [
    {
     "data": {
      "text/plain": [
       "True"
      ]
     },
     "execution_count": 63,
     "metadata": {},
     "output_type": "execute_result"
    }
   ],
   "source": [
    "x= not x\n",
    "x"
   ]
  },
  {
   "cell_type": "code",
   "execution_count": 64,
   "id": "d77701ad-6095-4853-9056-53257a01999a",
   "metadata": {},
   "outputs": [
    {
     "data": {
      "text/plain": [
       "False"
      ]
     },
     "execution_count": 64,
     "metadata": {},
     "output_type": "execute_result"
    }
   ],
   "source": [
    "not x"
   ]
  },
  {
   "cell_type": "markdown",
   "id": "ce77355c-527c-4d96-8672-a81449e574ff",
   "metadata": {},
   "source": [
    " # unary operator"
   ]
  },
  {
   "cell_type": "code",
   "execution_count": 65,
   "id": "0cdc18d0-612d-4402-b22b-66bf627c3d35",
   "metadata": {},
   "outputs": [
    {
     "data": {
      "text/plain": [
       "7"
      ]
     },
     "execution_count": 65,
     "metadata": {},
     "output_type": "execute_result"
    }
   ],
   "source": [
    "n = 7 # negattion\n",
    "n"
   ]
  },
  {
   "cell_type": "code",
   "execution_count": 67,
   "id": "b1215c91-82d4-43ca-8d2b-57d0ae784414",
   "metadata": {},
   "outputs": [
    {
     "data": {
      "text/plain": [
       "-7"
      ]
     },
     "execution_count": 67,
     "metadata": {},
     "output_type": "execute_result"
    }
   ],
   "source": [
    "m = -(n)\n",
    "m"
   ]
  },
  {
   "cell_type": "code",
   "execution_count": null,
   "id": "4c7f7c6e-5272-456d-9da5-1dff8b55f916",
   "metadata": {},
   "outputs": [],
   "source": []
  },
  {
   "cell_type": "code",
   "execution_count": null,
   "id": "2c295f86-3861-45c9-af7d-b31eb2adb779",
   "metadata": {},
   "outputs": [],
   "source": []
  },
  {
   "cell_type": "markdown",
   "id": "d9405d49-598d-4c0e-be49-278ccea7e377",
   "metadata": {},
   "source": [
    "# 7th NOV ''STRING INDEXING SLICING''"
   ]
  },
  {
   "cell_type": "code",
   "execution_count": 5,
   "id": "b49c87a9-0d6a-4b75-9d8a-8899b0145a3e",
   "metadata": {},
   "outputs": [
    {
     "data": {
      "text/plain": [
       "'dine'"
      ]
     },
     "execution_count": 5,
     "metadata": {},
     "output_type": "execute_result"
    }
   ],
   "source": [
    "'d'+st1[1:]"
   ]
  },
  {
   "cell_type": "code",
   "execution_count": 19,
   "id": "4c9a29c7-0c66-49ee-90c7-4e5ec7aef20d",
   "metadata": {},
   "outputs": [
    {
     "name": "stdout",
     "output_type": "stream",
     "text": [
      "nareshit\n"
     ]
    }
   ],
   "source": [
    "st='nareshit'\n",
    "print(st[:])"
   ]
  },
  {
   "cell_type": "markdown",
   "id": "f056b099-802e-4c83-ac9c-968c9e8a2d17",
   "metadata": {},
   "source": [
    "st2=nareshit'"
   ]
  },
  {
   "cell_type": "code",
   "execution_count": 2,
   "id": "678f9f09-dcc6-4213-abc3-0b2a90650adf",
   "metadata": {},
   "outputs": [],
   "source": [
    "st='hellopython'"
   ]
  },
  {
   "cell_type": "code",
   "execution_count": 3,
   "id": "bb324c04-3849-43ce-b8a5-74988e41daa8",
   "metadata": {},
   "outputs": [
    {
     "data": {
      "text/plain": [
       "'hellopyth'"
      ]
     },
     "execution_count": 3,
     "metadata": {},
     "output_type": "execute_result"
    }
   ],
   "source": [
    "st[0:9]"
   ]
  },
  {
   "cell_type": "code",
   "execution_count": 4,
   "id": "8d632332-ec60-4b51-8bf1-6c911d3f0aed",
   "metadata": {},
   "outputs": [
    {
     "data": {
      "text/plain": [
       "'hly'"
      ]
     },
     "execution_count": 4,
     "metadata": {},
     "output_type": "execute_result"
    }
   ],
   "source": [
    "st[0:9:3]"
   ]
  },
  {
   "cell_type": "code",
   "execution_count": 5,
   "id": "d3358c1a-5c2a-4a16-88fc-4a91e299908b",
   "metadata": {},
   "outputs": [
    {
     "data": {
      "text/plain": [
       "'ll'"
      ]
     },
     "execution_count": 5,
     "metadata": {},
     "output_type": "execute_result"
    }
   ],
   "source": [
    "st[2:4]"
   ]
  },
  {
   "cell_type": "code",
   "execution_count": 7,
   "id": "c1ffc615-acb5-472d-adcd-44230a4b6d88",
   "metadata": {},
   "outputs": [
    {
     "data": {
      "text/plain": [
       "'ellopytho'"
      ]
     },
     "execution_count": 7,
     "metadata": {},
     "output_type": "execute_result"
    }
   ],
   "source": [
    "st[1:10]\n"
   ]
  },
  {
   "cell_type": "code",
   "execution_count": 9,
   "id": "9c26b90b-1952-49bb-a9fb-f03b031882a0",
   "metadata": {},
   "outputs": [
    {
     "data": {
      "text/plain": [
       "'hloyhn'"
      ]
     },
     "execution_count": 9,
     "metadata": {},
     "output_type": "execute_result"
    }
   ],
   "source": [
    "st[::+2]"
   ]
  },
  {
   "cell_type": "code",
   "execution_count": 10,
   "id": "6d1308b9-1d28-4857-81d1-de4461bba8cc",
   "metadata": {},
   "outputs": [
    {
     "data": {
      "text/plain": [
       "'nhyolh'"
      ]
     },
     "execution_count": 10,
     "metadata": {},
     "output_type": "execute_result"
    }
   ],
   "source": [
    "st[::-2]"
   ]
  },
  {
   "cell_type": "code",
   "execution_count": 13,
   "id": "0325c241-9611-47d2-a2f7-91ce5d1c8ddc",
   "metadata": {},
   "outputs": [
    {
     "name": "stdout",
     "output_type": "stream",
     "text": [
      "h\n",
      "e\n",
      "l\n",
      "l\n",
      "o\n",
      "p\n",
      "y\n",
      "t\n",
      "h\n",
      "o\n",
      "n\n"
     ]
    }
   ],
   "source": [
    "for i in st:\n",
    "    print(i)"
   ]
  },
  {
   "cell_type": "markdown",
   "id": "b55923ee-d0ca-4d11-ae5d-c2ec659c5a7c",
   "metadata": {
    "jp-MarkdownHeadingCollapsed": true
   },
   "source": [
    "# **8TH NOV >>DATA STRUCTURES**"
   ]
  },
  {
   "cell_type": "code",
   "execution_count": null,
   "id": "2fb25049-9a0a-4fae-92ed-0b5f067f5549",
   "metadata": {},
   "outputs": [],
   "source": [
    "lists creation"
   ]
  },
  {
   "cell_type": "code",
   "execution_count": 1,
   "id": "65b0a553-4dd8-4ab3-8373-fc12fce349a5",
   "metadata": {},
   "outputs": [
    {
     "name": "stdout",
     "output_type": "stream",
     "text": [
      "<class 'list'>\n"
     ]
    }
   ],
   "source": [
    "l1=[]\n",
    "print(type(l1))"
   ]
  },
  {
   "cell_type": "code",
   "execution_count": 5,
   "id": "2f8d3885-2f94-4202-b257-923d7ffa561b",
   "metadata": {},
   "outputs": [
    {
     "data": {
      "text/plain": [
       "4"
      ]
     },
     "execution_count": 5,
     "metadata": {},
     "output_type": "execute_result"
    }
   ],
   "source": [
    "l2=[123]\n",
    "l3=[4.6,25,1+2j,20]\n",
    "len(l3)"
   ]
  },
  {
   "cell_type": "code",
   "execution_count": 6,
   "id": "32276881-b365-4bf0-8391-972e54e2b926",
   "metadata": {},
   "outputs": [
    {
     "data": {
      "text/plain": [
       "[]"
      ]
     },
     "execution_count": 6,
     "metadata": {},
     "output_type": "execute_result"
    }
   ],
   "source": [
    "l = []\n",
    "l"
   ]
  },
  {
   "cell_type": "code",
   "execution_count": 7,
   "id": "06a65f9e-ef9f-4956-ad4c-65f7acc27436",
   "metadata": {},
   "outputs": [
    {
     "data": {
      "text/plain": [
       "[]"
      ]
     },
     "execution_count": 7,
     "metadata": {},
     "output_type": "execute_result"
    }
   ],
   "source": [
    "l1 = list()\n",
    "l1"
   ]
  },
  {
   "cell_type": "code",
   "execution_count": 8,
   "id": "93b9b299-9642-42b4-915c-4ba2e74d1c86",
   "metadata": {},
   "outputs": [
    {
     "data": {
      "text/plain": [
       "0"
      ]
     },
     "execution_count": 8,
     "metadata": {},
     "output_type": "execute_result"
    }
   ],
   "source": [
    "len(l)"
   ]
  },
  {
   "cell_type": "code",
   "execution_count": 9,
   "id": "414dda4a-c620-44b7-bbef-6798f100a27f",
   "metadata": {},
   "outputs": [
    {
     "data": {
      "text/plain": [
       "0"
      ]
     },
     "execution_count": 9,
     "metadata": {},
     "output_type": "execute_result"
    }
   ],
   "source": [
    "len(l1)"
   ]
  },
  {
   "cell_type": "code",
   "execution_count": null,
   "id": "97b8d5ed-77d5-4033-9bd6-211172155d58",
   "metadata": {},
   "outputs": [],
   "source": [
    "l.append(10)\n",
    "l.append(20)\n",
    "l.append(5)"
   ]
  },
  {
   "cell_type": "code",
   "execution_count": null,
   "id": "82fbb4d3-617b-4f27-a8bb-ece2a376d270",
   "metadata": {},
   "outputs": [],
   "source": [
    "l"
   ]
  },
  {
   "cell_type": "code",
   "execution_count": null,
   "id": "d9fbad81-b608-4895-af2d-04f24d7f507f",
   "metadata": {},
   "outputs": [],
   "source": [
    "[1,100,3]"
   ]
  },
  {
   "cell_type": "code",
   "execution_count": 12,
   "id": "090d7e0e-cab9-4113-844a-a13d37d2a71e",
   "metadata": {},
   "outputs": [
    {
     "ename": "NameError",
     "evalue": "name 'l' is not defined",
     "output_type": "error",
     "traceback": [
      "\u001b[1;31m---------------------------------------------------------------------------\u001b[0m",
      "\u001b[1;31mNameError\u001b[0m                                 Traceback (most recent call last)",
      "Cell \u001b[1;32mIn[12], line 1\u001b[0m\n\u001b[1;32m----> 1\u001b[0m \u001b[38;5;28;01mfor\u001b[39;00m i \u001b[38;5;129;01min\u001b[39;00m l:\n\u001b[0;32m      2\u001b[0m    \u001b[38;5;28mprint\u001b[39m(i)\n",
      "\u001b[1;31mNameError\u001b[0m: name 'l' is not defined"
     ]
    }
   ],
   "source": [
    "for i in l:\n",
    "   print(i)"
   ]
  },
  {
   "cell_type": "code",
   "execution_count": 13,
   "id": "a6185ce6-36a5-4ab3-af97-c48ea509bfa8",
   "metadata": {},
   "outputs": [
    {
     "ename": "NameError",
     "evalue": "name 'l' is not defined",
     "output_type": "error",
     "traceback": [
      "\u001b[1;31m---------------------------------------------------------------------------\u001b[0m",
      "\u001b[1;31mNameError\u001b[0m                                 Traceback (most recent call last)",
      "Cell \u001b[1;32mIn[13], line 1\u001b[0m\n\u001b[1;32m----> 1\u001b[0m \u001b[38;5;28;01mfor\u001b[39;00m i \u001b[38;5;129;01min\u001b[39;00m \u001b[38;5;28menumerate\u001b[39m(l):\n\u001b[0;32m      2\u001b[0m     \u001b[38;5;28mprint\u001b[39m(i)\n",
      "\u001b[1;31mNameError\u001b[0m: name 'l' is not defined"
     ]
    }
   ],
   "source": [
    "for i in enumerate(l):\n",
    "    print(i)"
   ]
  },
  {
   "cell_type": "code",
   "execution_count": null,
   "id": "3aaedc72-9f27-4a96-bcc0-336d201576cf",
   "metadata": {},
   "outputs": [],
   "source": []
  },
  {
   "cell_type": "code",
   "execution_count": null,
   "id": "a26b2186-1bf0-4e6f-82d6-110eb8724fff",
   "metadata": {},
   "outputs": [],
   "source": []
  },
  {
   "cell_type": "code",
   "execution_count": null,
   "id": "c44c934b-c267-4054-a844-87d4c93892cb",
   "metadata": {},
   "outputs": [],
   "source": []
  },
  {
   "cell_type": "code",
   "execution_count": null,
   "id": "6550e164-2920-4883-a690-ff17003fd020",
   "metadata": {},
   "outputs": [],
   "source": []
  },
  {
   "cell_type": "markdown",
   "id": "9af323bd-366e-4f15-a45f-79404ad41038",
   "metadata": {},
   "source": [
    "# 12th tuple"
   ]
  },
  {
   "cell_type": "code",
   "execution_count": 1,
   "id": "ba6b4e1a-6626-4d8b-8514-6a71e5fc43fd",
   "metadata": {},
   "outputs": [
    {
     "data": {
      "text/plain": [
       "(10, 20, 30)"
      ]
     },
     "execution_count": 1,
     "metadata": {},
     "output_type": "execute_result"
    }
   ],
   "source": [
    "t2=(10,20,30)\n",
    "t2"
   ]
  },
  {
   "cell_type": "code",
   "execution_count": 3,
   "id": "4a5decbd-215b-4f49-bbe8-6021232e86fb",
   "metadata": {},
   "outputs": [
    {
     "data": {
      "text/plain": [
       "(10, 20, 30)"
      ]
     },
     "execution_count": 3,
     "metadata": {},
     "output_type": "execute_result"
    }
   ],
   "source": [
    "t2[1:]"
   ]
  },
  {
   "cell_type": "code",
   "execution_count": 7,
   "id": "b9b6fd47-5e9b-4034-bf7f-6f4625491eda",
   "metadata": {},
   "outputs": [
    {
     "data": {
      "text/plain": [
       "2"
      ]
     },
     "execution_count": 7,
     "metadata": {},
     "output_type": "execute_result"
    }
   ],
   "source": [
    "t2.count(10)"
   ]
  },
  {
   "cell_type": "code",
   "execution_count": 8,
   "id": "e0828470-a551-461f-811b-1fc196f90ba2",
   "metadata": {},
   "outputs": [
    {
     "data": {
      "text/plain": [
       "2"
      ]
     },
     "execution_count": 8,
     "metadata": {},
     "output_type": "execute_result"
    }
   ],
   "source": [
    "t2.index(20)"
   ]
  },
  {
   "cell_type": "code",
   "execution_count": 2,
   "id": "546e9f71-0281-4d7a-a925-ce335e7316f2",
   "metadata": {},
   "outputs": [
    {
     "data": {
      "text/plain": [
       "10"
      ]
     },
     "execution_count": 2,
     "metadata": {},
     "output_type": "execute_result"
    }
   ],
   "source": [
    "t2[0]"
   ]
  },
  {
   "cell_type": "code",
   "execution_count": 3,
   "id": "510ea476-22f0-4e89-95d2-b12af6b356fc",
   "metadata": {},
   "outputs": [
    {
     "data": {
      "text/plain": [
       "30"
      ]
     },
     "execution_count": 3,
     "metadata": {},
     "output_type": "execute_result"
    }
   ],
   "source": [
    "t2[-1]"
   ]
  },
  {
   "cell_type": "markdown",
   "id": "13d664aa-1a1f-445e-913c-ba16b8202c67",
   "metadata": {},
   "source": [
    "# Tuple slicing"
   ]
  },
  {
   "cell_type": "code",
   "execution_count": 14,
   "id": "7d1fc6f7-7465-4cfe-ab63-430404678427",
   "metadata": {},
   "outputs": [
    {
     "data": {
      "text/plain": [
       "('one', 'two', 'three')"
      ]
     },
     "execution_count": 14,
     "metadata": {},
     "output_type": "execute_result"
    }
   ],
   "source": [
    "mytuple=('one','two','three','four','five','six','seven')\n",
    "mytuple[0:3]"
   ]
  },
  {
   "cell_type": "code",
   "execution_count": 15,
   "id": "c77fed77-8848-4e57-bc28-0e28e16ed325",
   "metadata": {},
   "outputs": [
    {
     "data": {
      "text/plain": [
       "('three', 'four', 'five')"
      ]
     },
     "execution_count": 15,
     "metadata": {},
     "output_type": "execute_result"
    }
   ],
   "source": [
    "mytuple[2:5]"
   ]
  },
  {
   "cell_type": "code",
   "execution_count": 12,
   "id": "90dc3977-48bf-490e-9c0e-1559c428afe7",
   "metadata": {},
   "outputs": [
    {
     "data": {
      "text/plain": [
       "('one', 'two', 'three')"
      ]
     },
     "execution_count": 12,
     "metadata": {},
     "output_type": "execute_result"
    }
   ],
   "source": [
    "mytuple[:3]"
   ]
  },
  {
   "cell_type": "code",
   "execution_count": 17,
   "id": "bb0b8cd3-c149-4d56-a9c8-b89f7f577312",
   "metadata": {},
   "outputs": [
    {
     "data": {
      "text/plain": [
       "('five', 'six', 'seven')"
      ]
     },
     "execution_count": 17,
     "metadata": {},
     "output_type": "execute_result"
    }
   ],
   "source": [
    "mytuple[-3:]"
   ]
  },
  {
   "cell_type": "code",
   "execution_count": 19,
   "id": "c3afd541-5abc-4655-bc38-63475b4db15d",
   "metadata": {},
   "outputs": [
    {
     "data": {
      "text/plain": [
       "'seven'"
      ]
     },
     "execution_count": 19,
     "metadata": {},
     "output_type": "execute_result"
    }
   ],
   "source": [
    "mytuple[-1]"
   ]
  },
  {
   "cell_type": "code",
   "execution_count": 20,
   "id": "eca7b1c1-e18c-4158-8372-fd94eaa01d3f",
   "metadata": {},
   "outputs": [
    {
     "data": {
      "text/plain": [
       "('one', 'two', 'three', 'four', 'five', 'six', 'seven')"
      ]
     },
     "execution_count": 20,
     "metadata": {},
     "output_type": "execute_result"
    }
   ],
   "source": [
    "mytuple[:]"
   ]
  },
  {
   "cell_type": "markdown",
   "id": "861a84f0-e9fa-4475-b7c4-c3ed8c6a33a9",
   "metadata": {},
   "source": [
    "# remove and change items"
   ]
  },
  {
   "cell_type": "code",
   "execution_count": 21,
   "id": "6bf4a1f5-4534-472b-89ae-32dab567e932",
   "metadata": {},
   "outputs": [
    {
     "data": {
      "text/plain": [
       "('one', 'two', 'three', 'four', 'five', 'six', 'seven')"
      ]
     },
     "execution_count": 21,
     "metadata": {},
     "output_type": "execute_result"
    }
   ],
   "source": [
    "mytuple"
   ]
  },
  {
   "cell_type": "code",
   "execution_count": 22,
   "id": "acee86a6-3f2b-4d81-8554-a29e7723cec9",
   "metadata": {},
   "outputs": [
    {
     "ename": "TypeError",
     "evalue": "'tuple' object doesn't support item deletion",
     "output_type": "error",
     "traceback": [
      "\u001b[1;31m---------------------------------------------------------------------------\u001b[0m",
      "\u001b[1;31mTypeError\u001b[0m                                 Traceback (most recent call last)",
      "Cell \u001b[1;32mIn[22], line 1\u001b[0m\n\u001b[1;32m----> 1\u001b[0m \u001b[38;5;28;01mdel\u001b[39;00m mytuple[\u001b[38;5;241m0\u001b[39m]\n",
      "\u001b[1;31mTypeError\u001b[0m: 'tuple' object doesn't support item deletion"
     ]
    }
   ],
   "source": [
    "del mytuple[0] # tuples are immutable which means we cant DELETE tuple items"
   ]
  },
  {
   "cell_type": "code",
   "execution_count": 23,
   "id": "2a30d089-1190-4d04-b211-926524c5eaaa",
   "metadata": {},
   "outputs": [
    {
     "ename": "TypeError",
     "evalue": "'tuple' object does not support item assignment",
     "output_type": "error",
     "traceback": [
      "\u001b[1;31m---------------------------------------------------------------------------\u001b[0m",
      "\u001b[1;31mTypeError\u001b[0m                                 Traceback (most recent call last)",
      "Cell \u001b[1;32mIn[23], line 1\u001b[0m\n\u001b[1;32m----> 1\u001b[0m mytuple[\u001b[38;5;241m0\u001b[39m] \u001b[38;5;241m=\u001b[39m \u001b[38;5;241m1\u001b[39m\n",
      "\u001b[1;31mTypeError\u001b[0m: 'tuple' object does not support item assignment"
     ]
    }
   ],
   "source": [
    "mytuple[0] = 1 # tuples are immutable which means we cant CHANGE tuple items"
   ]
  },
  {
   "cell_type": "code",
   "execution_count": null,
   "id": "e952960d-6845-4696-920e-6e4e562d6794",
   "metadata": {},
   "outputs": [],
   "source": [
    "del mytuple #deleting entire tuple obj is possible"
   ]
  },
  {
   "cell_type": "markdown",
   "id": "29cc438b-24d4-48ee-ad37-303170ad61a8",
   "metadata": {},
   "source": [
    "# loop through a tuple"
   ]
  },
  {
   "cell_type": "code",
   "execution_count": 24,
   "id": "2ab7ee41-40f4-4dc2-bccc-0c4a15ddc689",
   "metadata": {},
   "outputs": [
    {
     "data": {
      "text/plain": [
       "('one', 'two', 'three', 'four', 'five', 'six', 'seven')"
      ]
     },
     "execution_count": 24,
     "metadata": {},
     "output_type": "execute_result"
    }
   ],
   "source": [
    "mytuple"
   ]
  },
  {
   "cell_type": "code",
   "execution_count": 25,
   "id": "1dfe6080-8229-4afa-b302-b023e978a19c",
   "metadata": {},
   "outputs": [
    {
     "name": "stdout",
     "output_type": "stream",
     "text": [
      "one\n",
      "two\n",
      "three\n",
      "four\n",
      "five\n",
      "six\n",
      "seven\n"
     ]
    }
   ],
   "source": [
    "for i in mytuple:\n",
    "    print(i)"
   ]
  },
  {
   "cell_type": "code",
   "execution_count": 26,
   "id": "98936c44-0505-44c2-b6e6-bbf50070595a",
   "metadata": {},
   "outputs": [
    {
     "name": "stdout",
     "output_type": "stream",
     "text": [
      "(0, 'one')\n",
      "(1, 'two')\n",
      "(2, 'three')\n",
      "(3, 'four')\n",
      "(4, 'five')\n",
      "(5, 'six')\n",
      "(6, 'seven')\n"
     ]
    }
   ],
   "source": [
    "for i in enumerate(mytuple):\n",
    "    print(i)"
   ]
  },
  {
   "cell_type": "markdown",
   "id": "f02130b2-fd8b-4fa2-b211-d7f9c6c53734",
   "metadata": {},
   "source": [
    "# count"
   ]
  },
  {
   "cell_type": "code",
   "execution_count": 31,
   "id": "4203d8a1-4851-4381-96ef-d25c7acee963",
   "metadata": {},
   "outputs": [],
   "source": [
    "mytuple1 =('one','two','three','one','two','three','one','two')"
   ]
  },
  {
   "cell_type": "code",
   "execution_count": 29,
   "id": "79a3e618-c2d9-45fb-9e97-49b943432fd0",
   "metadata": {},
   "outputs": [
    {
     "data": {
      "text/plain": [
       "3"
      ]
     },
     "execution_count": 29,
     "metadata": {},
     "output_type": "execute_result"
    }
   ],
   "source": [
    "mytuple1.count('one')"
   ]
  },
  {
   "cell_type": "code",
   "execution_count": 32,
   "id": "b8ccc554-1d86-4cbf-a227-c31c03df564c",
   "metadata": {},
   "outputs": [
    {
     "data": {
      "text/plain": [
       "2"
      ]
     },
     "execution_count": 32,
     "metadata": {},
     "output_type": "execute_result"
    }
   ],
   "source": [
    "mytuple1.count('three')"
   ]
  },
  {
   "cell_type": "markdown",
   "id": "7fd11971-30f7-47bb-a048-58a0eb17d561",
   "metadata": {},
   "source": [
    "# Tuple membership"
   ]
  },
  {
   "cell_type": "code",
   "execution_count": 34,
   "id": "b7f1f2fe-ccd1-4551-a7b9-6a580a61b1d8",
   "metadata": {},
   "outputs": [
    {
     "data": {
      "text/plain": [
       "('one', 'two', 'three', 'four', 'five', 'six', 'seven')"
      ]
     },
     "execution_count": 34,
     "metadata": {},
     "output_type": "execute_result"
    }
   ],
   "source": [
    "mytuple"
   ]
  },
  {
   "cell_type": "code",
   "execution_count": 35,
   "id": "d92eb5b1-baf6-4037-a79e-1592beb8d3c2",
   "metadata": {},
   "outputs": [
    {
     "data": {
      "text/plain": [
       "True"
      ]
     },
     "execution_count": 35,
     "metadata": {},
     "output_type": "execute_result"
    }
   ],
   "source": [
    "'one' in mytuple"
   ]
  },
  {
   "cell_type": "code",
   "execution_count": 36,
   "id": "1aa44467-2f1a-4eb5-b225-cd925da77cd7",
   "metadata": {},
   "outputs": [
    {
     "data": {
      "text/plain": [
       "False"
      ]
     },
     "execution_count": 36,
     "metadata": {},
     "output_type": "execute_result"
    }
   ],
   "source": [
    "'eight' in mytuple"
   ]
  },
  {
   "cell_type": "markdown",
   "id": "f9b25add-7352-4654-a1f4-f04d6f45a206",
   "metadata": {},
   "source": [
    "# Index position"
   ]
  },
  {
   "cell_type": "code",
   "execution_count": 37,
   "id": "be0c2d23-4c8a-4db6-927f-941a58504487",
   "metadata": {},
   "outputs": [
    {
     "data": {
      "text/plain": [
       "('one', 'two', 'three', 'four', 'five', 'six', 'seven')"
      ]
     },
     "execution_count": 37,
     "metadata": {},
     "output_type": "execute_result"
    }
   ],
   "source": [
    "mytuple"
   ]
  },
  {
   "cell_type": "code",
   "execution_count": 38,
   "id": "70f788c6-90d5-4dc2-a892-f3f2d9f7e34e",
   "metadata": {},
   "outputs": [
    {
     "data": {
      "text/plain": [
       "4"
      ]
     },
     "execution_count": 38,
     "metadata": {},
     "output_type": "execute_result"
    }
   ],
   "source": [
    "mytuple.index('five')"
   ]
  },
  {
   "cell_type": "code",
   "execution_count": 41,
   "id": "dcb6d4b3-922c-41e3-bd49-12ba69b4120a",
   "metadata": {},
   "outputs": [
    {
     "data": {
      "text/plain": [
       "('one', 'two', 'three', 'one', 'two', 'three', 'one', 'two')"
      ]
     },
     "execution_count": 41,
     "metadata": {},
     "output_type": "execute_result"
    }
   ],
   "source": [
    "mytuple1"
   ]
  },
  {
   "cell_type": "code",
   "execution_count": 40,
   "id": "0ce6cdb7-b77e-4cc6-b50d-71f47f242e53",
   "metadata": {},
   "outputs": [
    {
     "data": {
      "text/plain": [
       "0"
      ]
     },
     "execution_count": 40,
     "metadata": {},
     "output_type": "execute_result"
    }
   ],
   "source": [
    "mytuple1.index('one')"
   ]
  },
  {
   "cell_type": "markdown",
   "id": "e3d1121a-6430-4dae-9809-d3ab6842bb81",
   "metadata": {},
   "source": [
    "# sorting"
   ]
  },
  {
   "cell_type": "code",
   "execution_count": 50,
   "id": "d1289498-7743-4d31-a476-ffb0c99de28e",
   "metadata": {},
   "outputs": [],
   "source": [
    "mytuple2 = (16,25,24,11,30)"
   ]
  },
  {
   "cell_type": "code",
   "execution_count": 52,
   "id": "76fdd29f-54fb-4fb5-b022-40c9f6a609a9",
   "metadata": {},
   "outputs": [
    {
     "data": {
      "text/plain": [
       "[11, 16, 24, 25, 30]"
      ]
     },
     "execution_count": 52,
     "metadata": {},
     "output_type": "execute_result"
    }
   ],
   "source": [
    "sorted(mytuple2)"
   ]
  },
  {
   "cell_type": "code",
   "execution_count": 54,
   "id": "e413781b-ae80-47d5-b448-661241a3e00b",
   "metadata": {},
   "outputs": [
    {
     "data": {
      "text/plain": [
       "[30, 25, 24, 16, 11]"
      ]
     },
     "execution_count": 54,
     "metadata": {},
     "output_type": "execute_result"
    }
   ],
   "source": [
    "sorted(mytuple2, reverse=True)"
   ]
  },
  {
   "cell_type": "code",
   "execution_count": null,
   "id": "13488e45-3379-413f-935b-d5926769d884",
   "metadata": {},
   "outputs": [],
   "source": []
  },
  {
   "cell_type": "markdown",
   "id": "080f75f2-7008-443c-bb0c-453670f9829c",
   "metadata": {},
   "source": [
    "# sets"
   ]
  },
  {
   "cell_type": "code",
   "execution_count": 15,
   "id": "6c1be2dc-a505-4702-87b9-ebfbb41c5478",
   "metadata": {},
   "outputs": [
    {
     "data": {
      "text/plain": [
       "{}"
      ]
     },
     "execution_count": 15,
     "metadata": {},
     "output_type": "execute_result"
    }
   ],
   "source": [
    "s={}\n",
    "s"
   ]
  },
  {
   "cell_type": "code",
   "execution_count": 17,
   "id": "f1a10aa0-e4da-40ac-8b72-2c12f5de4508",
   "metadata": {},
   "outputs": [
    {
     "data": {
      "text/plain": [
       "dict"
      ]
     },
     "execution_count": 17,
     "metadata": {},
     "output_type": "execute_result"
    }
   ],
   "source": [
    "type(s)"
   ]
  },
  {
   "cell_type": "code",
   "execution_count": 18,
   "id": "7a476282-e838-470a-89c0-ce3cafe399e1",
   "metadata": {},
   "outputs": [
    {
     "data": {
      "text/plain": [
       "set"
      ]
     },
     "execution_count": 18,
     "metadata": {},
     "output_type": "execute_result"
    }
   ],
   "source": [
    "s1=set()\n",
    "type(s1)"
   ]
  },
  {
   "cell_type": "code",
   "execution_count": 19,
   "id": "4df52173-c320-494b-ab1c-f8c6c4eeea08",
   "metadata": {},
   "outputs": [
    {
     "data": {
      "text/plain": [
       "set()"
      ]
     },
     "execution_count": 19,
     "metadata": {},
     "output_type": "execute_result"
    }
   ],
   "source": [
    "s1"
   ]
  },
  {
   "cell_type": "code",
   "execution_count": 58,
   "id": "86bc7f96-4d2a-4bc7-86e1-c74cf584f884",
   "metadata": {},
   "outputs": [
    {
     "data": {
      "text/plain": [
       "{3, 5, 6, 39, 60}"
      ]
     },
     "execution_count": 58,
     "metadata": {},
     "output_type": "execute_result"
    }
   ],
   "source": [
    "s1={5,39,60,3,6,}\n",
    "s1"
   ]
  },
  {
   "cell_type": "code",
   "execution_count": 21,
   "id": "a1b385b3-f895-4927-b38e-cc5beb4ac745",
   "metadata": {},
   "outputs": [
    {
     "data": {
      "text/plain": [
       "{'a', 'g', 'l', 'r', 'w'}"
      ]
     },
     "execution_count": 21,
     "metadata": {},
     "output_type": "execute_result"
    }
   ],
   "source": [
    "s2={'r','w','a','l','g'}\n",
    "s2"
   ]
  },
  {
   "cell_type": "code",
   "execution_count": 23,
   "id": "d1341258-e926-4e28-b5f2-14432298b978",
   "metadata": {},
   "outputs": [
    {
     "data": {
      "text/plain": [
       "{(1+2j), 17, 3.2, True, 's'}"
      ]
     },
     "execution_count": 23,
     "metadata": {},
     "output_type": "execute_result"
    }
   ],
   "source": [
    "s3={17,'s',3.2,1+2j,True}\n",
    "s3"
   ]
  },
  {
   "cell_type": "code",
   "execution_count": 25,
   "id": "513d1f79-b6ae-4082-8987-d9e386f0e168",
   "metadata": {},
   "outputs": [
    {
     "name": "stdout",
     "output_type": "stream",
     "text": [
      "{3, 5, 6, 39, 60}\n",
      "{'w', 'r', 'a', 'g', 'l'}\n",
      "{True, 17, 3.2, (1+2j), 's'}\n"
     ]
    }
   ],
   "source": [
    "print(s1)\n",
    "print(s2)\n",
    "print(s3)"
   ]
  },
  {
   "cell_type": "code",
   "execution_count": 26,
   "id": "d3d1a396-e914-40c7-b830-552b077834d8",
   "metadata": {},
   "outputs": [
    {
     "data": {
      "text/plain": [
       "{}"
      ]
     },
     "execution_count": 26,
     "metadata": {},
     "output_type": "execute_result"
    }
   ],
   "source": [
    "s={}\n",
    "s"
   ]
  },
  {
   "cell_type": "code",
   "execution_count": 27,
   "id": "0d50be06-41f4-4ca3-83f0-2594c9a02783",
   "metadata": {},
   "outputs": [
    {
     "data": {
      "text/plain": [
       "set()"
      ]
     },
     "execution_count": 27,
     "metadata": {},
     "output_type": "execute_result"
    }
   ],
   "source": [
    "set()"
   ]
  },
  {
   "cell_type": "code",
   "execution_count": 28,
   "id": "4e234d11-42a5-4583-b598-290cc7bb9efa",
   "metadata": {},
   "outputs": [
    {
     "name": "stdout",
     "output_type": "stream",
     "text": [
      "<class 'set'>\n"
     ]
    }
   ],
   "source": [
    "print(type(s1))"
   ]
  },
  {
   "cell_type": "code",
   "execution_count": 30,
   "id": "1669af4e-df0b-491f-b1a0-41e8fb7a2c02",
   "metadata": {},
   "outputs": [
    {
     "name": "stdout",
     "output_type": "stream",
     "text": [
      "<class 'set'>\n",
      "<class 'set'>\n"
     ]
    }
   ],
   "source": [
    "print(type(s2))\n",
    "print(type(s3))"
   ]
  },
  {
   "cell_type": "code",
   "execution_count": 59,
   "id": "58a64631-1a54-4bf4-b88e-10effd453eab",
   "metadata": {},
   "outputs": [
    {
     "data": {
      "text/plain": [
       "{3, 5, 6, 39, 60}"
      ]
     },
     "execution_count": 59,
     "metadata": {},
     "output_type": "execute_result"
    }
   ],
   "source": [
    "s1"
   ]
  },
  {
   "cell_type": "code",
   "execution_count": 33,
   "id": "5f9e2a22-7bd7-414e-a833-5a660b9d7688",
   "metadata": {},
   "outputs": [
    {
     "data": {
      "text/plain": [
       "{3, 5, 6, 39, 60, 200}"
      ]
     },
     "execution_count": 33,
     "metadata": {},
     "output_type": "execute_result"
    }
   ],
   "source": [
    "s1.add(200)\n",
    "s1"
   ]
  },
  {
   "cell_type": "code",
   "execution_count": 60,
   "id": "ee527045-8b73-4b32-91db-de893732af42",
   "metadata": {},
   "outputs": [
    {
     "ename": "TypeError",
     "evalue": "set.add() takes exactly one argument (2 given)",
     "output_type": "error",
     "traceback": [
      "\u001b[1;31m---------------------------------------------------------------------------\u001b[0m",
      "\u001b[1;31mTypeError\u001b[0m                                 Traceback (most recent call last)",
      "Cell \u001b[1;32mIn[60], line 1\u001b[0m\n\u001b[1;32m----> 1\u001b[0m s1\u001b[38;5;241m.\u001b[39madd(\u001b[38;5;241m200\u001b[39m,\u001b[38;5;241m300\u001b[39m) \u001b[38;5;66;03m#cant add 2 parameters\u001b[39;00m\n\u001b[0;32m      2\u001b[0m s1\n",
      "\u001b[1;31mTypeError\u001b[0m: set.add() takes exactly one argument (2 given)"
     ]
    }
   ],
   "source": [
    "s1.add(200,300) #cant add 2 parameters\n",
    "s1"
   ]
  },
  {
   "cell_type": "code",
   "execution_count": 35,
   "id": "daaac746-14ff-432a-af9e-d1d21322d44f",
   "metadata": {},
   "outputs": [
    {
     "data": {
      "text/plain": [
       "{3, 5, 6, 39, 60, 200}"
      ]
     },
     "execution_count": 35,
     "metadata": {},
     "output_type": "execute_result"
    }
   ],
   "source": [
    "s1.add(200) #duplicates aren't allowes in sets\n",
    "s1"
   ]
  },
  {
   "cell_type": "code",
   "execution_count": 36,
   "id": "a757d6bf-4d7c-4a8a-88d7-b0860027d028",
   "metadata": {},
   "outputs": [
    {
     "data": {
      "text/plain": [
       "<function set.copy>"
      ]
     },
     "execution_count": 36,
     "metadata": {},
     "output_type": "execute_result"
    }
   ],
   "source": [
    "s4=s1.copy\n",
    "s4"
   ]
  },
  {
   "cell_type": "code",
   "execution_count": 37,
   "id": "fe4dbf9a-310a-4d3e-9aba-c0f76e0819c1",
   "metadata": {},
   "outputs": [
    {
     "ename": "TypeError",
     "evalue": "'set' object is not subscriptable",
     "output_type": "error",
     "traceback": [
      "\u001b[1;31m---------------------------------------------------------------------------\u001b[0m",
      "\u001b[1;31mTypeError\u001b[0m                                 Traceback (most recent call last)",
      "Cell \u001b[1;32mIn[37], line 1\u001b[0m\n\u001b[1;32m----> 1\u001b[0m s1[:]\n",
      "\u001b[1;31mTypeError\u001b[0m: 'set' object is not subscriptable"
     ]
    }
   ],
   "source": [
    "s1[:] #indexing isn't allowed"
   ]
  },
  {
   "cell_type": "code",
   "execution_count": 38,
   "id": "06b8cdb8-49ec-4e9f-bdc8-0dd0f61892cd",
   "metadata": {},
   "outputs": [
    {
     "data": {
      "text/plain": [
       "6"
      ]
     },
     "execution_count": 38,
     "metadata": {},
     "output_type": "execute_result"
    }
   ],
   "source": [
    "len(s1)"
   ]
  },
  {
   "cell_type": "code",
   "execution_count": 41,
   "id": "45e8ac22-7e21-457c-95de-36a75528d0d8",
   "metadata": {},
   "outputs": [
    {
     "data": {
      "text/plain": [
       "<function set.clear>"
      ]
     },
     "execution_count": 41,
     "metadata": {},
     "output_type": "execute_result"
    }
   ],
   "source": [
    "s4={3,5,8,12,20}\n",
    "s4.clear"
   ]
  },
  {
   "cell_type": "code",
   "execution_count": 42,
   "id": "d163dff7-9a38-40f9-8464-9ddfd3a5eecc",
   "metadata": {},
   "outputs": [
    {
     "data": {
      "text/plain": [
       "1407466407072"
      ]
     },
     "execution_count": 42,
     "metadata": {},
     "output_type": "execute_result"
    }
   ],
   "source": [
    "id(s4)"
   ]
  },
  {
   "cell_type": "code",
   "execution_count": 48,
   "id": "8beced16-74fc-462d-90f9-39d1adf4e3d7",
   "metadata": {},
   "outputs": [
    {
     "ename": "NameError",
     "evalue": "name 's4' is not defined",
     "output_type": "error",
     "traceback": [
      "\u001b[1;31m---------------------------------------------------------------------------\u001b[0m",
      "\u001b[1;31mNameError\u001b[0m                                 Traceback (most recent call last)",
      "Cell \u001b[1;32mIn[48], line 1\u001b[0m\n\u001b[1;32m----> 1\u001b[0m s4\u001b[38;5;241m.\u001b[39mclear()\n",
      "\u001b[1;31mNameError\u001b[0m: name 's4' is not defined"
     ]
    }
   ],
   "source": [
    "s4.clear()"
   ]
  },
  {
   "cell_type": "code",
   "execution_count": 43,
   "id": "f553dfde-e9c5-40e6-9475-8a0706db1315",
   "metadata": {},
   "outputs": [
    {
     "data": {
      "text/plain": [
       "5"
      ]
     },
     "execution_count": 43,
     "metadata": {},
     "output_type": "execute_result"
    }
   ],
   "source": [
    "len(s4)"
   ]
  },
  {
   "cell_type": "code",
   "execution_count": 44,
   "id": "fa9bc2b2-01d7-4f54-a4ee-81d7ea41be4d",
   "metadata": {},
   "outputs": [
    {
     "data": {
      "text/plain": [
       "1407466407072"
      ]
     },
     "execution_count": 44,
     "metadata": {},
     "output_type": "execute_result"
    }
   ],
   "source": [
    "id(s4)"
   ]
  },
  {
   "cell_type": "code",
   "execution_count": 45,
   "id": "fbbcfb26-bbcd-4c70-bad8-e03f21f2a9db",
   "metadata": {},
   "outputs": [
    {
     "data": {
      "text/plain": [
       "{3, 5, 8, 12, 20}"
      ]
     },
     "execution_count": 45,
     "metadata": {},
     "output_type": "execute_result"
    }
   ],
   "source": [
    "s4"
   ]
  },
  {
   "cell_type": "code",
   "execution_count": 49,
   "id": "b4c20bb8-f44d-429a-a1fb-e2cf4575c1f7",
   "metadata": {},
   "outputs": [
    {
     "data": {
      "text/plain": [
       "{17, 3.2, True, 's'}"
      ]
     },
     "execution_count": 49,
     "metadata": {},
     "output_type": "execute_result"
    }
   ],
   "source": [
    "s3.remove(1+2j)\n",
    "s3"
   ]
  },
  {
   "cell_type": "code",
   "execution_count": 50,
   "id": "4c832d72-aaf8-4f20-a11d-ca5d83a7ff86",
   "metadata": {},
   "outputs": [
    {
     "data": {
      "text/plain": [
       "True"
      ]
     },
     "execution_count": 50,
     "metadata": {},
     "output_type": "execute_result"
    }
   ],
   "source": [
    "s3.pop()"
   ]
  },
  {
   "cell_type": "code",
   "execution_count": 51,
   "id": "03376df9-b56b-457c-8107-ec8ae63be920",
   "metadata": {},
   "outputs": [
    {
     "data": {
      "text/plain": [
       "{17, 3.2, 's'}"
      ]
     },
     "execution_count": 51,
     "metadata": {},
     "output_type": "execute_result"
    }
   ],
   "source": [
    "s3"
   ]
  },
  {
   "cell_type": "code",
   "execution_count": 52,
   "id": "7502b675-5d84-4b2e-9f75-d1645cfdcd69",
   "metadata": {},
   "outputs": [
    {
     "data": {
      "text/plain": [
       "17"
      ]
     },
     "execution_count": 52,
     "metadata": {},
     "output_type": "execute_result"
    }
   ],
   "source": [
    "s3.pop()"
   ]
  },
  {
   "cell_type": "markdown",
   "id": "98739094-e0f2-413b-a7c3-e49c016f8545",
   "metadata": {},
   "source": [
    "# loop through a set"
   ]
  },
  {
   "cell_type": "code",
   "execution_count": 61,
   "id": "6bff2225-8e81-4eb7-925c-1f8a96f47d89",
   "metadata": {},
   "outputs": [
    {
     "data": {
      "text/plain": [
       "{3, 5, 6, 39, 60}"
      ]
     },
     "execution_count": 61,
     "metadata": {},
     "output_type": "execute_result"
    }
   ],
   "source": [
    "s1"
   ]
  },
  {
   "cell_type": "code",
   "execution_count": 62,
   "id": "025d2230-6a90-48eb-98d6-33e9a63f37a0",
   "metadata": {},
   "outputs": [
    {
     "name": "stdout",
     "output_type": "stream",
     "text": [
      "3\n",
      "5\n",
      "6\n",
      "39\n",
      "60\n"
     ]
    }
   ],
   "source": [
    "for i in s1:\n",
    "    print(i)"
   ]
  },
  {
   "cell_type": "code",
   "execution_count": 63,
   "id": "adcdfe91-471b-4122-afed-63f3e0a25eca",
   "metadata": {},
   "outputs": [
    {
     "name": "stdout",
     "output_type": "stream",
     "text": [
      "(0, 3)\n",
      "(1, 5)\n",
      "(2, 6)\n",
      "(3, 39)\n",
      "(4, 60)\n"
     ]
    }
   ],
   "source": [
    "for i in enumerate(s1):\n",
    "    print(i)"
   ]
  },
  {
   "cell_type": "markdown",
   "id": "fb412345-240d-4219-bfbd-a7bd2b66ad31",
   "metadata": {},
   "source": [
    "# set membership"
   ]
  },
  {
   "cell_type": "code",
   "execution_count": 64,
   "id": "5f564cb5-0a4e-4fe1-8837-20ae38d5c903",
   "metadata": {},
   "outputs": [
    {
     "data": {
      "text/plain": [
       "{3, 5, 6, 39, 60}"
      ]
     },
     "execution_count": 64,
     "metadata": {},
     "output_type": "execute_result"
    }
   ],
   "source": [
    "s1"
   ]
  },
  {
   "cell_type": "code",
   "execution_count": 65,
   "id": "64c3c6a0-10e2-4b26-a335-2fe9dd06336a",
   "metadata": {},
   "outputs": [
    {
     "data": {
      "text/plain": [
       "True"
      ]
     },
     "execution_count": 65,
     "metadata": {},
     "output_type": "execute_result"
    }
   ],
   "source": [
    "6 in s1"
   ]
  },
  {
   "cell_type": "code",
   "execution_count": 67,
   "id": "625b5704-a0ba-4c2e-90a8-e2cdf6cde68e",
   "metadata": {},
   "outputs": [
    {
     "data": {
      "text/plain": [
       "False"
      ]
     },
     "execution_count": 67,
     "metadata": {},
     "output_type": "execute_result"
    }
   ],
   "source": [
    "9 in s1"
   ]
  },
  {
   "cell_type": "markdown",
   "id": "aaae9579-a9f3-4c35-9062-8427b0c2b787",
   "metadata": {},
   "source": [
    "# ADD & REMOVE items"
   ]
  },
  {
   "cell_type": "code",
   "execution_count": 68,
   "id": "d72edf96-8e42-4fca-b1f9-947107f90a5e",
   "metadata": {},
   "outputs": [
    {
     "data": {
      "text/plain": [
       "{3, 5, 6, 39, 60}"
      ]
     },
     "execution_count": 68,
     "metadata": {},
     "output_type": "execute_result"
    }
   ],
   "source": [
    "s1"
   ]
  },
  {
   "cell_type": "code",
   "execution_count": 70,
   "id": "954c76ad-02c9-44b6-9102-d9a3f897f1da",
   "metadata": {},
   "outputs": [
    {
     "data": {
      "text/plain": [
       "{3, 5, 6, 9, 39, 60}"
      ]
     },
     "execution_count": 70,
     "metadata": {},
     "output_type": "execute_result"
    }
   ],
   "source": [
    "s1.add(9)\n",
    "s1"
   ]
  },
  {
   "cell_type": "code",
   "execution_count": 72,
   "id": "03719514-d555-48ae-b621-41b18eb69502",
   "metadata": {},
   "outputs": [
    {
     "data": {
      "text/plain": [
       "{3, 5, 6, 9, 16, 25, 27, 39, 60}"
      ]
     },
     "execution_count": 72,
     "metadata": {},
     "output_type": "execute_result"
    }
   ],
   "source": [
    "s1.update([16,25,27])\n",
    "s1"
   ]
  },
  {
   "cell_type": "code",
   "execution_count": 73,
   "id": "56eac9af-edbf-4dbc-992d-e6b7eba6d325",
   "metadata": {},
   "outputs": [
    {
     "data": {
      "text/plain": [
       "{3, 5, 6, 9, 16, 25, 39, 60}"
      ]
     },
     "execution_count": 73,
     "metadata": {},
     "output_type": "execute_result"
    }
   ],
   "source": [
    "s1.remove(27)\n",
    "s1"
   ]
  },
  {
   "cell_type": "code",
   "execution_count": 75,
   "id": "a48efb86-dcb4-455f-ae3c-620ec5447f93",
   "metadata": {},
   "outputs": [
    {
     "data": {
      "text/plain": [
       "{3, 5, 6, 9, 16, 25, 60}"
      ]
     },
     "execution_count": 75,
     "metadata": {},
     "output_type": "execute_result"
    }
   ],
   "source": [
    "s1.discard(39)\n",
    "s1"
   ]
  },
  {
   "cell_type": "code",
   "execution_count": 76,
   "id": "e6656c09-7872-4ce9-bccf-fb436dd7e1d5",
   "metadata": {},
   "outputs": [
    {
     "data": {
      "text/plain": [
       "set()"
      ]
     },
     "execution_count": 76,
     "metadata": {},
     "output_type": "execute_result"
    }
   ],
   "source": [
    "s1.clear()\n",
    "s1"
   ]
  },
  {
   "cell_type": "code",
   "execution_count": 77,
   "id": "d5a9c3cf-f139-4bd3-b491-4b535afcaad2",
   "metadata": {},
   "outputs": [
    {
     "ename": "NameError",
     "evalue": "name 's1' is not defined",
     "output_type": "error",
     "traceback": [
      "\u001b[1;31m---------------------------------------------------------------------------\u001b[0m",
      "\u001b[1;31mNameError\u001b[0m                                 Traceback (most recent call last)",
      "Cell \u001b[1;32mIn[77], line 2\u001b[0m\n\u001b[0;32m      1\u001b[0m \u001b[38;5;28;01mdel\u001b[39;00m s1\n\u001b[1;32m----> 2\u001b[0m s1\n",
      "\u001b[1;31mNameError\u001b[0m: name 's1' is not defined"
     ]
    }
   ],
   "source": [
    "del s1\n",
    "s1"
   ]
  },
  {
   "cell_type": "markdown",
   "id": "8bc14e63-8e60-41cb-9518-0d13a870fc86",
   "metadata": {},
   "source": [
    "# copy set"
   ]
  },
  {
   "cell_type": "code",
   "execution_count": 80,
   "id": "91265bb5-6cb2-4890-8495-63e70b653c54",
   "metadata": {},
   "outputs": [
    {
     "data": {
      "text/plain": [
       "{'blueberry', 'mulberry', 'raspberry', 'strawberry'}"
      ]
     },
     "execution_count": 80,
     "metadata": {},
     "output_type": "execute_result"
    }
   ],
   "source": [
    "myset = {'strawberry','blueberry','raspberry','mulberry'}\n",
    "myset"
   ]
  },
  {
   "cell_type": "code",
   "execution_count": 81,
   "id": "35b93c75-1f72-4d6c-9bc3-ecfa69b235c3",
   "metadata": {},
   "outputs": [
    {
     "data": {
      "text/plain": [
       "{'blueberry', 'mulberry', 'raspberry', 'strawberry'}"
      ]
     },
     "execution_count": 81,
     "metadata": {},
     "output_type": "execute_result"
    }
   ],
   "source": [
    "myset1 = myset\n",
    "myset1"
   ]
  },
  {
   "cell_type": "code",
   "execution_count": 84,
   "id": "b808c3e7-4115-4a91-ae7d-16420aa4041d",
   "metadata": {},
   "outputs": [
    {
     "data": {
      "text/plain": [
       "(2481301845632, 2481301845632)"
      ]
     },
     "execution_count": 84,
     "metadata": {},
     "output_type": "execute_result"
    }
   ],
   "source": [
    "id(myset) , id(myset1)"
   ]
  },
  {
   "cell_type": "code",
   "execution_count": 85,
   "id": "2475766c-68c0-45f8-98c2-100000b56d46",
   "metadata": {},
   "outputs": [
    {
     "data": {
      "text/plain": [
       "{'blueberry', 'mulberry', 'raspberry', 'strawberry'}"
      ]
     },
     "execution_count": 85,
     "metadata": {},
     "output_type": "execute_result"
    }
   ],
   "source": [
    "my_set = myset.copy()\n",
    "myset"
   ]
  },
  {
   "cell_type": "code",
   "execution_count": 86,
   "id": "a7234d45-0bae-4ae2-ac5d-da1ae22b7957",
   "metadata": {},
   "outputs": [
    {
     "data": {
      "text/plain": [
       "2481301832864"
      ]
     },
     "execution_count": 86,
     "metadata": {},
     "output_type": "execute_result"
    }
   ],
   "source": [
    "id(my_set)"
   ]
  },
  {
   "cell_type": "code",
   "execution_count": 90,
   "id": "72a552b8-1d6c-47f7-a73e-7cd893553551",
   "metadata": {},
   "outputs": [
    {
     "data": {
      "text/plain": [
       "{'blackberry', 'blueberry', 'mulberry', 'raspberry', 'strawberry'}"
      ]
     },
     "execution_count": 90,
     "metadata": {},
     "output_type": "execute_result"
    }
   ],
   "source": [
    "myset.add('blackberry')\n",
    "myset"
   ]
  },
  {
   "cell_type": "code",
   "execution_count": 91,
   "id": "cac881b0-c333-40a1-864a-068fc2b55d41",
   "metadata": {},
   "outputs": [
    {
     "data": {
      "text/plain": [
       "{'blackberry', 'blueberry', 'mulberry', 'raspberry', 'strawberry'}"
      ]
     },
     "execution_count": 91,
     "metadata": {},
     "output_type": "execute_result"
    }
   ],
   "source": [
    "myset1"
   ]
  },
  {
   "cell_type": "code",
   "execution_count": 92,
   "id": "be2ec21b-7e59-4f63-bef8-7c518031e1ff",
   "metadata": {},
   "outputs": [
    {
     "data": {
      "text/plain": [
       "{'blueberry', 'mulberry', 'raspberry', 'strawberry'}"
      ]
     },
     "execution_count": 92,
     "metadata": {},
     "output_type": "execute_result"
    }
   ],
   "source": [
    "my_set"
   ]
  },
  {
   "cell_type": "code",
   "execution_count": null,
   "id": "58841c24-d8fe-4818-bad1-f7875d11025c",
   "metadata": {},
   "outputs": [],
   "source": []
  },
  {
   "cell_type": "markdown",
   "id": "765a2188-92b3-4c23-8353-95996de76f65",
   "metadata": {},
   "source": [
    "# 13TH NOV "
   ]
  },
  {
   "cell_type": "markdown",
   "id": "2884390b-419b-4b2d-b5db-d4b0364ee5cc",
   "metadata": {},
   "source": [
    "# set operation"
   ]
  },
  {
   "cell_type": "markdown",
   "id": "3682c219-5f07-4ee9-9d89-74426e76a42a",
   "metadata": {},
   "source": [
    "# union operation"
   ]
  },
  {
   "cell_type": "code",
   "execution_count": 2,
   "id": "8e64b03a-ff8f-4467-804c-c3617c443339",
   "metadata": {},
   "outputs": [],
   "source": [
    "a={1,2,3,4,5}\n",
    "b={4,5,6,7,8}\n",
    "c={8,9,10}"
   ]
  },
  {
   "cell_type": "code",
   "execution_count": 3,
   "id": "c16b2152-22c8-4926-a34f-d78b92214392",
   "metadata": {},
   "outputs": [
    {
     "data": {
      "text/plain": [
       "{1, 2, 3, 4, 5, 6, 7, 8}"
      ]
     },
     "execution_count": 3,
     "metadata": {},
     "output_type": "execute_result"
    }
   ],
   "source": [
    "a|b # use | pipe or union tab"
   ]
  },
  {
   "cell_type": "code",
   "execution_count": 4,
   "id": "cd85b6aa-c615-4840-b5f9-c506da8f82fe",
   "metadata": {},
   "outputs": [
    {
     "data": {
      "text/plain": [
       "{4, 5, 6, 7, 8, 9, 10}"
      ]
     },
     "execution_count": 4,
     "metadata": {},
     "output_type": "execute_result"
    }
   ],
   "source": [
    "b|c"
   ]
  },
  {
   "cell_type": "code",
   "execution_count": 5,
   "id": "0db10fb9-195a-411f-b2c1-9dce3820e455",
   "metadata": {},
   "outputs": [
    {
     "data": {
      "text/plain": [
       "{1, 2, 3, 4, 5, 6, 7, 8}"
      ]
     },
     "execution_count": 5,
     "metadata": {},
     "output_type": "execute_result"
    }
   ],
   "source": [
    "a.union(b)"
   ]
  },
  {
   "cell_type": "code",
   "execution_count": 6,
   "id": "0c6f9e2e-fbf9-4ee7-a896-09deda2adcaa",
   "metadata": {},
   "outputs": [
    {
     "data": {
      "text/plain": [
       "{4, 5, 6, 7, 8}"
      ]
     },
     "execution_count": 6,
     "metadata": {},
     "output_type": "execute_result"
    }
   ],
   "source": [
    "b.union(b)"
   ]
  },
  {
   "cell_type": "code",
   "execution_count": 7,
   "id": "f2137969-5c64-49a8-82fd-d57faece0521",
   "metadata": {},
   "outputs": [
    {
     "data": {
      "text/plain": [
       "{1, 2, 3, 4, 5, 6, 7, 8, 9, 10}"
      ]
     },
     "execution_count": 7,
     "metadata": {},
     "output_type": "execute_result"
    }
   ],
   "source": [
    "b.union(a,c)"
   ]
  },
  {
   "cell_type": "code",
   "execution_count": 9,
   "id": "27ce5eb4-834a-4b32-9ed4-43e1128c6e5d",
   "metadata": {},
   "outputs": [],
   "source": [
    "a1={'a','b'}\n",
    "b1={'c','d'}"
   ]
  },
  {
   "cell_type": "code",
   "execution_count": 19,
   "id": "cc85e6c9-0572-4aee-85c2-68ddf7c606e7",
   "metadata": {},
   "outputs": [
    {
     "data": {
      "text/plain": [
       "{'a', 'b', 'c', 'd'}"
      ]
     },
     "execution_count": 19,
     "metadata": {},
     "output_type": "execute_result"
    }
   ],
   "source": [
    "a1.union(b1)"
   ]
  },
  {
   "cell_type": "code",
   "execution_count": 94,
   "id": "b6528ad1-d34b-4db3-a93c-6f5683e5d011",
   "metadata": {},
   "outputs": [
    {
     "data": {
      "text/plain": [
       "{1, 2, 3, 4, 5, 6, 7, 8}"
      ]
     },
     "execution_count": 94,
     "metadata": {},
     "output_type": "execute_result"
    }
   ],
   "source": [
    "a2={1,2,3,4,5}\n",
    "b2={4,5,6,7,8}\n",
    "c2={8,9,10}\n",
    "a2|b2"
   ]
  },
  {
   "cell_type": "code",
   "execution_count": 95,
   "id": "6a306a37-250f-4634-8211-b7875eadb729",
   "metadata": {},
   "outputs": [
    {
     "data": {
      "text/plain": [
       "{1, 2, 3, 4, 5, 8, 9, 10}"
      ]
     },
     "execution_count": 95,
     "metadata": {},
     "output_type": "execute_result"
    }
   ],
   "source": [
    "a2|c2\n"
   ]
  },
  {
   "cell_type": "code",
   "execution_count": null,
   "id": "ba9f135e-d60b-419b-8b8c-2e00e8ee5256",
   "metadata": {},
   "outputs": [],
   "source": []
  },
  {
   "cell_type": "code",
   "execution_count": null,
   "id": "30b3f1fa-0f43-4cf5-9ac5-5dd4ac24b58d",
   "metadata": {},
   "outputs": [],
   "source": [
    "#update func"
   ]
  },
  {
   "cell_type": "code",
   "execution_count": 10,
   "id": "7471e182-9d3d-495d-aa8c-7490bd55e87e",
   "metadata": {},
   "outputs": [
    {
     "data": {
      "text/plain": [
       "{1, 2, 3, 4, 5}"
      ]
     },
     "execution_count": 10,
     "metadata": {},
     "output_type": "execute_result"
    }
   ],
   "source": [
    "a"
   ]
  },
  {
   "cell_type": "code",
   "execution_count": 11,
   "id": "c69bd339-c489-433d-a035-07e9cb433f7a",
   "metadata": {},
   "outputs": [
    {
     "data": {
      "text/plain": [
       "{4, 5, 6, 7, 8}"
      ]
     },
     "execution_count": 11,
     "metadata": {},
     "output_type": "execute_result"
    }
   ],
   "source": [
    "b"
   ]
  },
  {
   "cell_type": "code",
   "execution_count": 12,
   "id": "14dc1210-d225-4390-a511-affbdaaecf3f",
   "metadata": {},
   "outputs": [
    {
     "data": {
      "text/plain": [
       "{8, 9, 10}"
      ]
     },
     "execution_count": 12,
     "metadata": {},
     "output_type": "execute_result"
    }
   ],
   "source": [
    "c"
   ]
  },
  {
   "cell_type": "code",
   "execution_count": 14,
   "id": "770c69cd-96a1-42fb-aa5f-f0871db90ca3",
   "metadata": {},
   "outputs": [],
   "source": [
    "c.update(b)"
   ]
  },
  {
   "cell_type": "code",
   "execution_count": 15,
   "id": "bd28a9ed-d055-4e59-8ba0-b341b0055e74",
   "metadata": {},
   "outputs": [
    {
     "data": {
      "text/plain": [
       "{4, 5, 6, 7, 8, 9, 10}"
      ]
     },
     "execution_count": 15,
     "metadata": {},
     "output_type": "execute_result"
    }
   ],
   "source": [
    "c"
   ]
  },
  {
   "cell_type": "code",
   "execution_count": 16,
   "id": "e5ffd700-a619-40d5-9143-519cdaee97ea",
   "metadata": {},
   "outputs": [
    {
     "data": {
      "text/plain": [
       "7"
      ]
     },
     "execution_count": 16,
     "metadata": {},
     "output_type": "execute_result"
    }
   ],
   "source": [
    "len(c)"
   ]
  },
  {
   "cell_type": "markdown",
   "id": "720261d5-b409-49e7-a5df-e634f2a23063",
   "metadata": {},
   "source": [
    "# intersection operation"
   ]
  },
  {
   "cell_type": "code",
   "execution_count": 20,
   "id": "34ce4861-df1c-42e9-bac0-5c51f519fa82",
   "metadata": {},
   "outputs": [
    {
     "name": "stdout",
     "output_type": "stream",
     "text": [
      "{1, 2, 3, 4, 5}\n",
      "{4, 5, 6, 7, 8}\n",
      "{4, 5, 6, 7, 8, 9, 10}\n"
     ]
    }
   ],
   "source": [
    "print(a)\n",
    "print(b)\n",
    "print(c)"
   ]
  },
  {
   "cell_type": "code",
   "execution_count": 26,
   "id": "c78ee144-da53-4ae1-ba0f-eee6db84428c",
   "metadata": {},
   "outputs": [
    {
     "data": {
      "text/plain": [
       "{4, 5}"
      ]
     },
     "execution_count": 26,
     "metadata": {},
     "output_type": "execute_result"
    }
   ],
   "source": [
    "a.intersection(b)"
   ]
  },
  {
   "cell_type": "code",
   "execution_count": 25,
   "id": "4c2d1f7d-082f-4822-9620-e3a2a2a985eb",
   "metadata": {},
   "outputs": [
    {
     "data": {
      "text/plain": [
       "{4, 5, 6, 7, 8}"
      ]
     },
     "execution_count": 25,
     "metadata": {},
     "output_type": "execute_result"
    }
   ],
   "source": [
    "c.intersection(b)"
   ]
  },
  {
   "cell_type": "markdown",
   "id": "a79c195b-1e87-4763-a683-299622b8db83",
   "metadata": {},
   "source": [
    " **intersection update**"
   ]
  },
  {
   "cell_type": "code",
   "execution_count": 30,
   "id": "9fe5bcaf-c67d-45fb-9fcd-4c09b86b1c93",
   "metadata": {},
   "outputs": [
    {
     "data": {
      "text/plain": [
       "{4, 5}"
      ]
     },
     "execution_count": 30,
     "metadata": {},
     "output_type": "execute_result"
    }
   ],
   "source": [
    "a.intersection_update(b)\n",
    "a"
   ]
  },
  {
   "cell_type": "markdown",
   "id": "9915b6f9-87dc-44ca-9f40-8081a0f8a8fa",
   "metadata": {},
   "source": [
    "# difference"
   ]
  },
  {
   "cell_type": "code",
   "execution_count": 96,
   "id": "0347bf61-df09-4bd9-a23f-048364fc3919",
   "metadata": {},
   "outputs": [],
   "source": [
    "A = {1,2,3,4,5}\n",
    "B = {4,5,6,7,8}"
   ]
  },
  {
   "cell_type": "code",
   "execution_count": 97,
   "id": "855852f9-ebe5-4aff-b676-b92a88e613ab",
   "metadata": {},
   "outputs": [
    {
     "data": {
      "text/plain": [
       "{1, 2, 3}"
      ]
     },
     "execution_count": 97,
     "metadata": {},
     "output_type": "execute_result"
    }
   ],
   "source": [
    "A - B #SET OF ELEMEMNTS THAT ARE ONLY IN A BUT NOT IN B"
   ]
  },
  {
   "cell_type": "code",
   "execution_count": 98,
   "id": "bd0bc99c-39cb-4e02-9084-f2dfaface676",
   "metadata": {},
   "outputs": [
    {
     "data": {
      "text/plain": [
       "{1, 2, 3}"
      ]
     },
     "execution_count": 98,
     "metadata": {},
     "output_type": "execute_result"
    }
   ],
   "source": [
    "A.difference(B) #DIFF OF SETS"
   ]
  },
  {
   "cell_type": "code",
   "execution_count": 99,
   "id": "dc90bb75-e538-463f-addc-e359789c043e",
   "metadata": {},
   "outputs": [
    {
     "data": {
      "text/plain": [
       "{6, 7, 8}"
      ]
     },
     "execution_count": 99,
     "metadata": {},
     "output_type": "execute_result"
    }
   ],
   "source": [
    "B-A"
   ]
  },
  {
   "cell_type": "code",
   "execution_count": 100,
   "id": "0b58c47c-9b3e-4a86-a7eb-b40f5ffbd877",
   "metadata": {},
   "outputs": [
    {
     "data": {
      "text/plain": [
       "{6, 7, 8}"
      ]
     },
     "execution_count": 100,
     "metadata": {},
     "output_type": "execute_result"
    }
   ],
   "source": [
    "B.difference(A)"
   ]
  },
  {
   "cell_type": "code",
   "execution_count": 103,
   "id": "557b0738-d5d0-4d6b-bdcb-905fd945ebe8",
   "metadata": {},
   "outputs": [
    {
     "data": {
      "text/plain": [
       "{6, 7, 8}"
      ]
     },
     "execution_count": 103,
     "metadata": {},
     "output_type": "execute_result"
    }
   ],
   "source": [
    "B.difference_update(A)\n",
    "B"
   ]
  },
  {
   "cell_type": "code",
   "execution_count": 45,
   "id": "baeba023-f3e7-4072-953f-b5aa98d8e03c",
   "metadata": {},
   "outputs": [
    {
     "data": {
      "text/plain": [
       "{4, 5, 6, 7}"
      ]
     },
     "execution_count": 45,
     "metadata": {},
     "output_type": "execute_result"
    }
   ],
   "source": [
    "b2.difference(c2)\n",
    "b2"
   ]
  },
  {
   "cell_type": "code",
   "execution_count": 104,
   "id": "5f3ef050-658c-4fdf-b28f-9c25dc0ab8e9",
   "metadata": {},
   "outputs": [
    {
     "data": {
      "text/plain": [
       "{4, 5, 6, 7}"
      ]
     },
     "execution_count": 104,
     "metadata": {},
     "output_type": "execute_result"
    }
   ],
   "source": [
    "b2.difference_update(c2)\n",
    "b2"
   ]
  },
  {
   "cell_type": "markdown",
   "id": "331d1e70-14a8-4d12-8fe0-16dfd91afed6",
   "metadata": {},
   "source": [
    "# **symmetric difference**"
   ]
  },
  {
   "cell_type": "code",
   "execution_count": 105,
   "id": "4399b777-3cc8-4bc8-b040-3e3c425dc8fd",
   "metadata": {},
   "outputs": [],
   "source": [
    "A = {1,2,3,4,5}\n",
    "B = {4,5,6,7,8}"
   ]
  },
  {
   "cell_type": "code",
   "execution_count": 106,
   "id": "ac3844c3-030f-484a-a479-1d90d8511a56",
   "metadata": {},
   "outputs": [
    {
     "data": {
      "text/plain": [
       "{1, 2, 3, 6, 7, 8}"
      ]
     },
     "execution_count": 106,
     "metadata": {},
     "output_type": "execute_result"
    }
   ],
   "source": [
    "A^B # SYMM DIFF (SET OF ELEM IN A & B BUT NOT IN BOTH)"
   ]
  },
  {
   "cell_type": "code",
   "execution_count": 107,
   "id": "183c083b-3447-4533-9bc9-790be830ac58",
   "metadata": {},
   "outputs": [
    {
     "data": {
      "text/plain": [
       "{1, 2, 3, 6, 7, 8}"
      ]
     },
     "execution_count": 107,
     "metadata": {},
     "output_type": "execute_result"
    }
   ],
   "source": [
    "A.symmetric_difference(B)"
   ]
  },
  {
   "cell_type": "code",
   "execution_count": 109,
   "id": "f82eff90-3a07-4e3a-9053-3a93069d2ae7",
   "metadata": {},
   "outputs": [
    {
     "data": {
      "text/plain": [
       "{1, 2, 3, 4, 5}"
      ]
     },
     "execution_count": 109,
     "metadata": {},
     "output_type": "execute_result"
    }
   ],
   "source": [
    "A.symmetric_difference_update(B)\n",
    "A"
   ]
  },
  {
   "cell_type": "markdown",
   "id": "5769a6d8-e1a9-4672-ae3e-49efdcc033fb",
   "metadata": {},
   "source": [
    "# SUBSET , SUPERSET & DISJOINT"
   ]
  },
  {
   "cell_type": "code",
   "execution_count": 110,
   "id": "20e3a7e0-b365-4643-bc8a-e8249cefa491",
   "metadata": {},
   "outputs": [],
   "source": [
    "A = {1,2,3,4,5,6,7,8,9}\n",
    "B = {3,4,5,6,7,8}\n",
    "C = {10,20,30,40}"
   ]
  },
  {
   "cell_type": "code",
   "execution_count": 111,
   "id": "7bb057d5-788f-4276-902d-f0e320819e8b",
   "metadata": {},
   "outputs": [
    {
     "data": {
      "text/plain": [
       "True"
      ]
     },
     "execution_count": 111,
     "metadata": {},
     "output_type": "execute_result"
    }
   ],
   "source": [
    "B.issubset(A)"
   ]
  },
  {
   "cell_type": "code",
   "execution_count": 112,
   "id": "a36d4efb-55e3-4415-9b50-13618833285c",
   "metadata": {},
   "outputs": [
    {
     "data": {
      "text/plain": [
       "True"
      ]
     },
     "execution_count": 112,
     "metadata": {},
     "output_type": "execute_result"
    }
   ],
   "source": [
    "C.isdisjoint(A)"
   ]
  },
  {
   "cell_type": "code",
   "execution_count": 113,
   "id": "60221031-b16f-466e-8c2e-4a7e3bf03a04",
   "metadata": {},
   "outputs": [
    {
     "data": {
      "text/plain": [
       "False"
      ]
     },
     "execution_count": 113,
     "metadata": {},
     "output_type": "execute_result"
    }
   ],
   "source": [
    "B.isdisjoint(A)"
   ]
  },
  {
   "cell_type": "markdown",
   "id": "d63be51f-be27-4754-a542-79a44a8927d3",
   "metadata": {},
   "source": [
    "# OTHER BULTIN FUNCTIONS"
   ]
  },
  {
   "cell_type": "code",
   "execution_count": 115,
   "id": "28ca7a92-8c62-4f53-8ef8-50f57141302b",
   "metadata": {},
   "outputs": [
    {
     "data": {
      "text/plain": [
       "{1, 2, 3, 4, 5, 6, 7, 8, 9}"
      ]
     },
     "execution_count": 115,
     "metadata": {},
     "output_type": "execute_result"
    }
   ],
   "source": [
    "A"
   ]
  },
  {
   "cell_type": "code",
   "execution_count": 117,
   "id": "e76c9260-c2ba-484e-807b-4dee62d9b95f",
   "metadata": {},
   "outputs": [
    {
     "data": {
      "text/plain": [
       "45"
      ]
     },
     "execution_count": 117,
     "metadata": {},
     "output_type": "execute_result"
    }
   ],
   "source": [
    "sum(A)"
   ]
  },
  {
   "cell_type": "code",
   "execution_count": 119,
   "id": "dcc47291-dbe3-441a-9815-80d398c24c8b",
   "metadata": {},
   "outputs": [
    {
     "data": {
      "text/plain": [
       "9"
      ]
     },
     "execution_count": 119,
     "metadata": {},
     "output_type": "execute_result"
    }
   ],
   "source": [
    "max(A)"
   ]
  },
  {
   "cell_type": "code",
   "execution_count": 120,
   "id": "4741d2b0-1959-403c-a0a6-b4f269650977",
   "metadata": {},
   "outputs": [
    {
     "data": {
      "text/plain": [
       "1"
      ]
     },
     "execution_count": 120,
     "metadata": {},
     "output_type": "execute_result"
    }
   ],
   "source": [
    "min(A)"
   ]
  },
  {
   "cell_type": "code",
   "execution_count": 121,
   "id": "b678583e-7d31-4a22-b685-7de12b386c67",
   "metadata": {},
   "outputs": [
    {
     "data": {
      "text/plain": [
       "9"
      ]
     },
     "execution_count": 121,
     "metadata": {},
     "output_type": "execute_result"
    }
   ],
   "source": [
    "len(A)"
   ]
  },
  {
   "cell_type": "code",
   "execution_count": 123,
   "id": "20a59ea2-e30b-4f0b-8b38-975f04180510",
   "metadata": {},
   "outputs": [
    {
     "data": {
      "text/plain": [
       "[(0, 1), (1, 2), (2, 3), (3, 4), (4, 5), (5, 6), (6, 7), (7, 8), (8, 9)]"
      ]
     },
     "execution_count": 123,
     "metadata": {},
     "output_type": "execute_result"
    }
   ],
   "source": [
    "list(enumerate(A))"
   ]
  },
  {
   "cell_type": "code",
   "execution_count": 126,
   "id": "bfa17093-1d55-4d07-a118-e85b74a41dcb",
   "metadata": {},
   "outputs": [
    {
     "data": {
      "text/plain": [
       "[9, 8, 7, 6, 5, 4, 3, 2, 1]"
      ]
     },
     "execution_count": 126,
     "metadata": {},
     "output_type": "execute_result"
    }
   ],
   "source": [
    "D= sorted(A,reverse=True)\n",
    "D"
   ]
  },
  {
   "cell_type": "code",
   "execution_count": 128,
   "id": "d6dfe601-666c-4a7f-b4c2-ac4633ff7dc5",
   "metadata": {},
   "outputs": [
    {
     "data": {
      "text/plain": [
       "[1, 2, 3, 4, 5, 6, 7, 8, 9]"
      ]
     },
     "execution_count": 128,
     "metadata": {},
     "output_type": "execute_result"
    }
   ],
   "source": [
    "sorted(D)"
   ]
  },
  {
   "cell_type": "markdown",
   "id": "fbf76e69-9ddd-441f-82cb-99d79e22a9dc",
   "metadata": {},
   "source": [
    "# dictionary "
   ]
  },
  {
   "cell_type": "code",
   "execution_count": 137,
   "id": "a407cf89-81b2-43ec-8332-64f68aeb3971",
   "metadata": {},
   "outputs": [
    {
     "ename": "TypeError",
     "evalue": "'tuple' object is not callable",
     "output_type": "error",
     "traceback": [
      "\u001b[1;31m---------------------------------------------------------------------------\u001b[0m",
      "\u001b[1;31mTypeError\u001b[0m                                 Traceback (most recent call last)",
      "Cell \u001b[1;32mIn[137], line 1\u001b[0m\n\u001b[1;32m----> 1\u001b[0m mydict \u001b[38;5;241m=\u001b[39m \u001b[38;5;28mdict\u001b[39m()\n\u001b[0;32m      2\u001b[0m mydict\n",
      "\u001b[1;31mTypeError\u001b[0m: 'tuple' object is not callable"
     ]
    }
   ],
   "source": [
    "mydict = dict()\n",
    "mydict"
   ]
  },
  {
   "cell_type": "code",
   "execution_count": 139,
   "id": "affea9e5-067a-47fc-a43f-490bf9aaf311",
   "metadata": {
    "jupyter": {
     "source_hidden": true
    }
   },
   "outputs": [
    {
     "ename": "TypeError",
     "evalue": "'tuple' object is not callable",
     "output_type": "error",
     "traceback": [
      "\u001b[1;31m---------------------------------------------------------------------------\u001b[0m",
      "\u001b[1;31mTypeError\u001b[0m                                 Traceback (most recent call last)",
      "Cell \u001b[1;32mIn[139], line 1\u001b[0m\n\u001b[1;32m----> 1\u001b[0m mydict \u001b[38;5;241m=\u001b[39m \u001b[38;5;28mdict\u001b[39m()\n",
      "\u001b[1;31mTypeError\u001b[0m: 'tuple' object is not callable"
     ]
    }
   ],
   "source": [
    "mydict = dict()"
   ]
  },
  {
   "cell_type": "code",
   "execution_count": 140,
   "id": "17ff85fe-c106-4013-a271-0c4d979b2fef",
   "metadata": {},
   "outputs": [],
   "source": [
    "dict = ()\n"
   ]
  },
  {
   "cell_type": "code",
   "execution_count": 141,
   "id": "d78a8cf6-c357-4818-96fb-52651d9ffd8d",
   "metadata": {},
   "outputs": [],
   "source": [
    "del dict\n"
   ]
  },
  {
   "cell_type": "code",
   "execution_count": 144,
   "id": "32dfb5e0-c18e-4aa4-a05a-c9c76dc321af",
   "metadata": {},
   "outputs": [
    {
     "data": {
      "text/plain": [
       "{}"
      ]
     },
     "execution_count": 144,
     "metadata": {},
     "output_type": "execute_result"
    }
   ],
   "source": [
    "mydict = dict()\n",
    "mydict"
   ]
  },
  {
   "cell_type": "code",
   "execution_count": 145,
   "id": "40b9fc97-d421-4370-914c-5d8baf1bafe8",
   "metadata": {},
   "outputs": [
    {
     "data": {
      "text/plain": [
       "{}"
      ]
     },
     "execution_count": 145,
     "metadata": {},
     "output_type": "execute_result"
    }
   ],
   "source": [
    "mydict = {}\n",
    "mydict"
   ]
  },
  {
   "cell_type": "code",
   "execution_count": 146,
   "id": "b6ce1cda-efcf-4c36-8fc6-677b85811f29",
   "metadata": {},
   "outputs": [],
   "source": [
    "mydict = {1:'one' , 2:'two' , 3:'three'}"
   ]
  },
  {
   "cell_type": "code",
   "execution_count": 147,
   "id": "cbe84c30-f2d9-443c-98c7-404229f936dd",
   "metadata": {},
   "outputs": [
    {
     "data": {
      "text/plain": [
       "{1: 'one', 2: 'two', 3: 'three'}"
      ]
     },
     "execution_count": 147,
     "metadata": {},
     "output_type": "execute_result"
    }
   ],
   "source": [
    "mydict"
   ]
  },
  {
   "cell_type": "code",
   "execution_count": 148,
   "id": "dbdf8129-9dca-40de-b473-7b52c5797955",
   "metadata": {},
   "outputs": [
    {
     "data": {
      "text/plain": [
       "{1: 'one', 2: 'two', 3: 'three'}"
      ]
     },
     "execution_count": 148,
     "metadata": {},
     "output_type": "execute_result"
    }
   ],
   "source": [
    "mydict = dict({1:'one',  2:'two' , 3:'three'})\n",
    "mydict"
   ]
  },
  {
   "cell_type": "code",
   "execution_count": 149,
   "id": "336d6c5d-51ed-4429-9969-0f244bd50a06",
   "metadata": {},
   "outputs": [
    {
     "data": {
      "text/plain": [
       "{'a': 'one', 'b': 'two', 'c': 'three'}"
      ]
     },
     "execution_count": 149,
     "metadata": {},
     "output_type": "execute_result"
    }
   ],
   "source": [
    "mydict = {'a':'one' , 'b':'two' ,'c':'three'}\n",
    "mydict"
   ]
  },
  {
   "cell_type": "code",
   "execution_count": 150,
   "id": "fd9b066a-e930-4137-9904-a26c3c9c3677",
   "metadata": {},
   "outputs": [
    {
     "data": {
      "text/plain": [
       "{1: 'one', 'a': 'two', 3: 'three'}"
      ]
     },
     "execution_count": 150,
     "metadata": {},
     "output_type": "execute_result"
    }
   ],
   "source": [
    "mydict = {1:'one' , 'a':'two' , 3:'three'}\n",
    "mydict"
   ]
  },
  {
   "cell_type": "code",
   "execution_count": 153,
   "id": "c60b186a-8955-46cd-ba59-d38de1849dc1",
   "metadata": {},
   "outputs": [
    {
     "data": {
      "text/plain": [
       "dict_keys([1, 'a', 3])"
      ]
     },
     "execution_count": 153,
     "metadata": {},
     "output_type": "execute_result"
    }
   ],
   "source": [
    "mydict.keys()"
   ]
  },
  {
   "cell_type": "code",
   "execution_count": 154,
   "id": "ffdd57ea-d5fb-4d66-8a48-69a8a9236cbf",
   "metadata": {},
   "outputs": [
    {
     "data": {
      "text/plain": [
       "dict_values(['one', 'two', 'three'])"
      ]
     },
     "execution_count": 154,
     "metadata": {},
     "output_type": "execute_result"
    }
   ],
   "source": [
    "mydict.values()"
   ]
  },
  {
   "cell_type": "code",
   "execution_count": 156,
   "id": "ecd47409-fcc8-45b7-a55e-abe6c8d410fa",
   "metadata": {},
   "outputs": [
    {
     "data": {
      "text/plain": [
       "dict_items([(1, 'one'), ('a', 'two'), (3, 'three')])"
      ]
     },
     "execution_count": 156,
     "metadata": {},
     "output_type": "execute_result"
    }
   ],
   "source": [
    "mydict.items()"
   ]
  },
  {
   "cell_type": "code",
   "execution_count": 162,
   "id": "f337c038-f715-4ab0-89e0-22b08064b934",
   "metadata": {},
   "outputs": [],
   "source": [
    "mydict = {1: 'one', 2: 'two', 'S': ['saniya', 'sara', 'ritu'], 'B': ('lambo', 'bmw', 'audi')}"
   ]
  },
  {
   "cell_type": "code",
   "execution_count": 163,
   "id": "5c8f77ba-f850-4847-8076-2c0bc82ba617",
   "metadata": {},
   "outputs": [
    {
     "data": {
      "text/plain": [
       "{1: 'one',\n",
       " 2: 'two',\n",
       " 'S': ['saniya', 'sara', 'ritu'],\n",
       " 'B': ('lambo', 'bmw', 'audi')}"
      ]
     },
     "execution_count": 163,
     "metadata": {},
     "output_type": "execute_result"
    }
   ],
   "source": [
    "mydict"
   ]
  },
  {
   "cell_type": "code",
   "execution_count": 164,
   "id": "6f5ada79-5f76-4f5c-9a25-7f42a08512d6",
   "metadata": {},
   "outputs": [],
   "source": [
    "mydict = {1:'one', 2:'two' , 'a':{'name':'saniya' , 'Age' :20}, 'B':('lambo', 'bmw', 'audi')}"
   ]
  },
  {
   "cell_type": "code",
   "execution_count": 165,
   "id": "7f55dd04-5b37-4ba2-8ec6-ab2247f1e3f2",
   "metadata": {},
   "outputs": [
    {
     "data": {
      "text/plain": [
       "{1: 'one',\n",
       " 2: 'two',\n",
       " 'a': {'name': 'saniya', 'Age': 20},\n",
       " 'B': ('lambo', 'bmw', 'audi')}"
      ]
     },
     "execution_count": 165,
     "metadata": {},
     "output_type": "execute_result"
    }
   ],
   "source": [
    "mydict"
   ]
  },
  {
   "cell_type": "code",
   "execution_count": 166,
   "id": "9933e912-72ec-4b5e-b0e4-772bd6a18d78",
   "metadata": {},
   "outputs": [
    {
     "data": {
      "text/plain": [
       "{'a': 10, 'c': 10, 'b': 10, 'd': 10}"
      ]
     },
     "execution_count": 166,
     "metadata": {},
     "output_type": "execute_result"
    }
   ],
   "source": [
    "keys = {'a','b','c','d'}\n",
    "value = 10\n",
    "mydict3 = dict.fromkeys(keys , value)\n",
    "mydict3"
   ]
  },
  {
   "cell_type": "code",
   "execution_count": 167,
   "id": "d2250223-218c-4708-ac12-adb5204622d3",
   "metadata": {},
   "outputs": [
    {
     "data": {
      "text/plain": [
       "{'a': [10, 20, 30], 'c': [10, 20, 30], 'b': [10, 20, 30], 'd': [10, 20, 30]}"
      ]
     },
     "execution_count": 167,
     "metadata": {},
     "output_type": "execute_result"
    }
   ],
   "source": [
    "keys = {'a' ,'b' , 'c' ,'d'}\n",
    "value = [10,20,30]\n",
    "mydict3 =dict.fromkeys(keys , value)\n",
    "mydict3"
   ]
  },
  {
   "cell_type": "code",
   "execution_count": 168,
   "id": "c5607737-a4c8-49f8-88df-73754f4e244c",
   "metadata": {},
   "outputs": [
    {
     "data": {
      "text/plain": [
       "{'a': [10, 20, 30, 40],\n",
       " 'c': [10, 20, 30, 40],\n",
       " 'b': [10, 20, 30, 40],\n",
       " 'd': [10, 20, 30, 40]}"
      ]
     },
     "execution_count": 168,
     "metadata": {},
     "output_type": "execute_result"
    }
   ],
   "source": [
    "value.append(40)\n",
    "mydict3"
   ]
  },
  {
   "cell_type": "markdown",
   "id": "af4739ca-9e61-49b7-b026-1a0fc9f4dda3",
   "metadata": {},
   "source": [
    "# accessing items"
   ]
  },
  {
   "cell_type": "code",
   "execution_count": 169,
   "id": "83fc6358-0447-4ac1-99d6-31f5d6e82441",
   "metadata": {},
   "outputs": [
    {
     "data": {
      "text/plain": [
       "{1: 'one', 2: 'two', 3: 'three', 4: 'four'}"
      ]
     },
     "execution_count": 169,
     "metadata": {},
     "output_type": "execute_result"
    }
   ],
   "source": [
    "mydict = {1:'one' , 2:'two' , 3:'three' , 4:'four'}\n",
    "mydict"
   ]
  },
  {
   "cell_type": "code",
   "execution_count": 171,
   "id": "365d6cd1-953f-4f02-aa45-f23817db7b04",
   "metadata": {},
   "outputs": [
    {
     "data": {
      "text/plain": [
       "'one'"
      ]
     },
     "execution_count": 171,
     "metadata": {},
     "output_type": "execute_result"
    }
   ],
   "source": [
    "mydict[1]"
   ]
  },
  {
   "cell_type": "code",
   "execution_count": 172,
   "id": "0522a3f0-2fbe-4565-ae2f-64ff05a42067",
   "metadata": {},
   "outputs": [
    {
     "data": {
      "text/plain": [
       "'one'"
      ]
     },
     "execution_count": 172,
     "metadata": {},
     "output_type": "execute_result"
    }
   ],
   "source": [
    "mydict.get(1)"
   ]
  },
  {
   "cell_type": "code",
   "execution_count": 176,
   "id": "df1f65ce-7a46-48f9-a866-fbe84d910fd1",
   "metadata": {},
   "outputs": [
    {
     "data": {
      "text/plain": [
       "{'name': 'asif', 'id': 482974, 'dob': 2001, 'job': 'analyst'}"
      ]
     },
     "execution_count": 176,
     "metadata": {},
     "output_type": "execute_result"
    }
   ],
   "source": [
    "mydict1 = {'name':'asif', 'id':482974 , 'dob':2001, 'job':'analyst'}\n",
    "mydict1"
   ]
  },
  {
   "cell_type": "code",
   "execution_count": 177,
   "id": "268d2465-4275-46a7-abbf-b66c5e0516a0",
   "metadata": {},
   "outputs": [
    {
     "data": {
      "text/plain": [
       "'asif'"
      ]
     },
     "execution_count": 177,
     "metadata": {},
     "output_type": "execute_result"
    }
   ],
   "source": [
    "mydict1['name']"
   ]
  },
  {
   "cell_type": "code",
   "execution_count": 178,
   "id": "ca1c6ecd-665b-4605-8e4a-0dee9f09a547",
   "metadata": {},
   "outputs": [
    {
     "data": {
      "text/plain": [
       "'analyst'"
      ]
     },
     "execution_count": 178,
     "metadata": {},
     "output_type": "execute_result"
    }
   ],
   "source": [
    "mydict1.get('job')"
   ]
  },
  {
   "cell_type": "markdown",
   "id": "6a4baa28-09ca-44dc-8be5-db065ca79eb8",
   "metadata": {},
   "source": [
    "# add remove & change items"
   ]
  },
  {
   "cell_type": "code",
   "execution_count": 184,
   "id": "4b4c0801-1dcd-46ce-9af4-8f7aaae3f7bf",
   "metadata": {},
   "outputs": [],
   "source": [
    "mydict1 ={'name':'saniya' , 'id':12345 , 'dob':2001 , 'address':'hyd'}"
   ]
  },
  {
   "cell_type": "code",
   "execution_count": 185,
   "id": "8b55c552-1a44-4499-a601-eadb39d975ba",
   "metadata": {},
   "outputs": [
    {
     "data": {
      "text/plain": [
       "{'name': 'saniya', 'id': 12345, 'dob': 2001, 'address': 'hyd'}"
      ]
     },
     "execution_count": 185,
     "metadata": {},
     "output_type": "execute_result"
    }
   ],
   "source": [
    "mydict1"
   ]
  },
  {
   "cell_type": "code",
   "execution_count": 186,
   "id": "58a1047f-b721-40cb-8550-6388bc78f8b3",
   "metadata": {},
   "outputs": [
    {
     "data": {
      "text/plain": [
       "{'name': 'saniya', 'id': 12345, 'dob': 1999, 'address': 'germany'}"
      ]
     },
     "execution_count": 186,
     "metadata": {},
     "output_type": "execute_result"
    }
   ],
   "source": [
    "mydict1['dob']=1999 # change dict item\n",
    "mydict1['address'] = 'germany'\n",
    "mydict1"
   ]
  },
  {
   "cell_type": "code",
   "execution_count": 188,
   "id": "964b1b39-a041-4413-abfe-f9fab46d54e2",
   "metadata": {},
   "outputs": [
    {
     "data": {
      "text/plain": [
       "{'name': 'saniya', 'id': 12345, 'dob': 1995, 'address': 'germany'}"
      ]
     },
     "execution_count": 188,
     "metadata": {},
     "output_type": "execute_result"
    }
   ],
   "source": [
    "dict1 = {'dob':1995}\n",
    "mydict1.update(dict1)\n",
    "mydict1"
   ]
  },
  {
   "cell_type": "code",
   "execution_count": 189,
   "id": "1f084c0f-2857-4245-86bd-baffb7a11b8e",
   "metadata": {},
   "outputs": [
    {
     "data": {
      "text/plain": [
       "{'name': 'saniya',\n",
       " 'id': 12345,\n",
       " 'dob': 1995,\n",
       " 'address': 'germany',\n",
       " 'job': 'analyst'}"
      ]
     },
     "execution_count": 189,
     "metadata": {},
     "output_type": "execute_result"
    }
   ],
   "source": [
    "mydict1['job'] = 'analyst'\n",
    "mydict1"
   ]
  },
  {
   "cell_type": "code",
   "execution_count": 190,
   "id": "76f64eef-35c4-4dc9-bdfd-83a77a86255a",
   "metadata": {},
   "outputs": [
    {
     "data": {
      "text/plain": [
       "{'name': 'saniya', 'id': 12345, 'dob': 1995, 'address': 'germany'}"
      ]
     },
     "execution_count": 190,
     "metadata": {},
     "output_type": "execute_result"
    }
   ],
   "source": [
    "mydict1.pop('job')\n",
    "mydict1"
   ]
  },
  {
   "cell_type": "code",
   "execution_count": 191,
   "id": "af3bd70b-5d9e-4fcf-bfa4-0727fadfb6bb",
   "metadata": {},
   "outputs": [
    {
     "data": {
      "text/plain": [
       "('address', 'delhi')"
      ]
     },
     "execution_count": 191,
     "metadata": {},
     "output_type": "execute_result"
    }
   ],
   "source": [
    "mydict1.popitem()\n",
    "('address','delhi')"
   ]
  },
  {
   "cell_type": "code",
   "execution_count": 192,
   "id": "d47f5818-7957-446c-a625-262595a6918d",
   "metadata": {},
   "outputs": [
    {
     "data": {
      "text/plain": [
       "{'name': 'saniya', 'id': 12345, 'dob': 1995}"
      ]
     },
     "execution_count": 192,
     "metadata": {},
     "output_type": "execute_result"
    }
   ],
   "source": [
    "mydict1"
   ]
  },
  {
   "cell_type": "code",
   "execution_count": 193,
   "id": "8acf94c5-dba6-4a82-9868-c59c66e3eb4b",
   "metadata": {},
   "outputs": [
    {
     "data": {
      "text/plain": [
       "{'name': 'saniya', 'dob': 1995}"
      ]
     },
     "execution_count": 193,
     "metadata": {},
     "output_type": "execute_result"
    }
   ],
   "source": [
    "del[mydict1['id']]\n",
    "mydict1"
   ]
  },
  {
   "cell_type": "code",
   "execution_count": 194,
   "id": "0f9e9d2f-f3be-4f4a-841d-34305cde17fa",
   "metadata": {},
   "outputs": [
    {
     "ename": "NameError",
     "evalue": "name 'mydict1' is not defined",
     "output_type": "error",
     "traceback": [
      "\u001b[1;31m---------------------------------------------------------------------------\u001b[0m",
      "\u001b[1;31mNameError\u001b[0m                                 Traceback (most recent call last)",
      "Cell \u001b[1;32mIn[194], line 2\u001b[0m\n\u001b[0;32m      1\u001b[0m \u001b[38;5;28;01mdel\u001b[39;00m mydict1\n\u001b[1;32m----> 2\u001b[0m mydict1\n",
      "\u001b[1;31mNameError\u001b[0m: name 'mydict1' is not defined"
     ]
    }
   ],
   "source": [
    "del mydict1\n",
    "mydict1"
   ]
  },
  {
   "cell_type": "markdown",
   "id": "d2143eaa-1012-4ddb-9e18-49155b683356",
   "metadata": {},
   "source": [
    "# copy dictionary"
   ]
  },
  {
   "cell_type": "code",
   "execution_count": 196,
   "id": "b909d0d7-e0ca-4ff3-aa73-a43c8ff4585b",
   "metadata": {},
   "outputs": [
    {
     "data": {
      "text/plain": [
       "{'name': 'saniya', 'id': 1234, 'dob': 2004, 'address': 'germany'}"
      ]
     },
     "execution_count": 196,
     "metadata": {},
     "output_type": "execute_result"
    }
   ],
   "source": [
    "mydict = {'name':'saniya','id':1234,'dob':2004,'address':'germany'}\n",
    "mydict"
   ]
  },
  {
   "cell_type": "code",
   "execution_count": 197,
   "id": "b73ed833-c2b1-4532-9bb8-90109498bc43",
   "metadata": {},
   "outputs": [],
   "source": [
    "mydict1 = mydict"
   ]
  },
  {
   "cell_type": "code",
   "execution_count": 198,
   "id": "d9067163-b1d8-4ce4-8f52-c5d6fee60260",
   "metadata": {},
   "outputs": [
    {
     "data": {
      "text/plain": [
       "(2481307169024, 2481307169024)"
      ]
     },
     "execution_count": 198,
     "metadata": {},
     "output_type": "execute_result"
    }
   ],
   "source": [
    "id(mydict) ,id(mydict1)"
   ]
  },
  {
   "cell_type": "code",
   "execution_count": 200,
   "id": "fbdd8896-0585-4c8e-9bb3-3151c949aa97",
   "metadata": {},
   "outputs": [],
   "source": [
    "mydict2 = mydict.copy()"
   ]
  },
  {
   "cell_type": "code",
   "execution_count": 201,
   "id": "ed1f2918-c852-4444-a5f1-01db3346a489",
   "metadata": {},
   "outputs": [
    {
     "data": {
      "text/plain": [
       "2481287167296"
      ]
     },
     "execution_count": 201,
     "metadata": {},
     "output_type": "execute_result"
    }
   ],
   "source": [
    "id(mydict2)"
   ]
  },
  {
   "cell_type": "markdown",
   "id": "6f193824-647a-4b22-a4cd-b9cf7790be1c",
   "metadata": {},
   "source": [
    "# loop through a dict"
   ]
  },
  {
   "cell_type": "code",
   "execution_count": 204,
   "id": "7930853e-d339-46e5-9aec-1833c61b9599",
   "metadata": {},
   "outputs": [
    {
     "data": {
      "text/plain": [
       "{'name': 'saniya', 'id': 12345, 'dob': 2004, 'address': 'germany'}"
      ]
     },
     "execution_count": 204,
     "metadata": {},
     "output_type": "execute_result"
    }
   ],
   "source": [
    "mydict1 = {'name':'saniya' , 'id':12345, 'dob':2004, 'address': 'germany'}\n",
    "mydict1"
   ]
  },
  {
   "cell_type": "code",
   "execution_count": 205,
   "id": "43d22a45-8eb1-43de-bb1d-b21b0f038c93",
   "metadata": {},
   "outputs": [
    {
     "name": "stdout",
     "output_type": "stream",
     "text": [
      "name : saniya\n",
      "id : 12345\n",
      "dob : 2004\n",
      "address : germany\n"
     ]
    }
   ],
   "source": [
    "for i in mydict1:\n",
    "    print(i ,':' , mydict1[i])"
   ]
  },
  {
   "cell_type": "code",
   "execution_count": 206,
   "id": "5679c94e-7d92-4793-b8c7-eed0fcc1dc1d",
   "metadata": {},
   "outputs": [
    {
     "name": "stdout",
     "output_type": "stream",
     "text": [
      "saniya\n",
      "12345\n",
      "2004\n",
      "germany\n"
     ]
    }
   ],
   "source": [
    "for i in mydict1:\n",
    "    print(mydict1[i])"
   ]
  },
  {
   "cell_type": "markdown",
   "id": "15d1c9b4-ba4f-4aab-900e-a213a5d5d7e7",
   "metadata": {},
   "source": [
    "# dictionary membership"
   ]
  },
  {
   "cell_type": "code",
   "execution_count": 208,
   "id": "f22a68d5-b272-4ebc-a90a-165898ea11be",
   "metadata": {},
   "outputs": [
    {
     "data": {
      "text/plain": [
       "{'name': 'saniya', 'id': 12345, 'dob': 2004, 'job': 'analyst'}"
      ]
     },
     "execution_count": 208,
     "metadata": {},
     "output_type": "execute_result"
    }
   ],
   "source": [
    "mydict1 ={'name':'saniya', 'id':12345, 'dob':2004,'job':'analyst'}\n",
    "mydict1"
   ]
  },
  {
   "cell_type": "code",
   "execution_count": 209,
   "id": "4051f881-f398-4ac2-ad92-ba7e0a29a030",
   "metadata": {},
   "outputs": [
    {
     "data": {
      "text/plain": [
       "True"
      ]
     },
     "execution_count": 209,
     "metadata": {},
     "output_type": "execute_result"
    }
   ],
   "source": [
    "'name' in mydict1"
   ]
  },
  {
   "cell_type": "code",
   "execution_count": 210,
   "id": "cc09968c-741e-4b33-9432-ea94c7316315",
   "metadata": {},
   "outputs": [
    {
     "data": {
      "text/plain": [
       "False"
      ]
     },
     "execution_count": 210,
     "metadata": {},
     "output_type": "execute_result"
    }
   ],
   "source": [
    "'saniya' in mydict1"
   ]
  },
  {
   "cell_type": "code",
   "execution_count": 211,
   "id": "7dfad1f0-6188-4196-b0a1-a7894114a5f3",
   "metadata": {},
   "outputs": [
    {
     "data": {
      "text/plain": [
       "True"
      ]
     },
     "execution_count": 211,
     "metadata": {},
     "output_type": "execute_result"
    }
   ],
   "source": [
    "'id' in mydict1"
   ]
  },
  {
   "cell_type": "markdown",
   "id": "9a6fc3c7-81cd-418e-9536-e6b2e305dfb6",
   "metadata": {},
   "source": [
    "# All / Any\n",
    "The all() method returns:\n",
    "True - If all all keys of the dictionary are true\n",
    "False - If any key of the dictionary is false\n",
    "The any() function returns True if any key of the dictionary is True. If not, any() returns False."
   ]
  },
  {
   "cell_type": "code",
   "execution_count": 212,
   "id": "2b197260-0f8f-4ae6-95db-eb873bb83faa",
   "metadata": {},
   "outputs": [
    {
     "data": {
      "text/plain": [
       "{'Name': 'Asif', 'ID': 12345, 'DOB': 1991, 'Job': 'Analyst'}"
      ]
     },
     "execution_count": 212,
     "metadata": {},
     "output_type": "execute_result"
    }
   ],
   "source": [
    "mydict1 = {'Name':'Asif' , 'ID': 12345 , 'DOB': 1991 , 'Job': 'Analyst'}\n",
    "mydict1"
   ]
  },
  {
   "cell_type": "code",
   "execution_count": 213,
   "id": "8937eec0-8598-4a6a-a67d-66c17db371b1",
   "metadata": {},
   "outputs": [
    {
     "data": {
      "text/plain": [
       "True"
      ]
     },
     "execution_count": 213,
     "metadata": {},
     "output_type": "execute_result"
    }
   ],
   "source": [
    "all(mydict1)"
   ]
  },
  {
   "cell_type": "code",
   "execution_count": null,
   "id": "e696a7ab-c3b4-4773-af37-2d5f4b4fba48",
   "metadata": {},
   "outputs": [],
   "source": []
  }
 ],
 "metadata": {
  "kernelspec": {
   "display_name": "Python 3 (ipykernel)",
   "language": "python",
   "name": "python3"
  },
  "language_info": {
   "codemirror_mode": {
    "name": "ipython",
    "version": 3
   },
   "file_extension": ".py",
   "mimetype": "text/x-python",
   "name": "python",
   "nbconvert_exporter": "python",
   "pygments_lexer": "ipython3",
   "version": "3.12.7"
  }
 },
 "nbformat": 4,
 "nbformat_minor": 5
}
